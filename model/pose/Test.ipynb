{
 "cells": [
  {
   "cell_type": "code",
   "execution_count": 14,
   "id": "27ab8aab",
   "metadata": {},
   "outputs": [
    {
     "ename": "NameError",
     "evalue": "name 'framework' is not defined",
     "output_type": "error",
     "traceback": [
      "\u001b[0;31m---------------------------------------------------------------------------\u001b[0m",
      "\u001b[0;31mNameError\u001b[0m                                 Traceback (most recent call last)",
      "Cell \u001b[0;32mIn[14], line 1\u001b[0m\n\u001b[0;32m----> 1\u001b[0m \u001b[39mimport\u001b[39;00m \u001b[39mmediapipe\u001b[39;00m \u001b[39mas\u001b[39;00m \u001b[39mmp\u001b[39;00m \u001b[39m# Import mediapipe\u001b[39;00m\n\u001b[1;32m      2\u001b[0m \u001b[39mimport\u001b[39;00m \u001b[39mcv2\u001b[39;00m \u001b[39m# Import opencv\u001b[39;00m\n\u001b[1;32m      3\u001b[0m \u001b[39mimport\u001b[39;00m \u001b[39mcsv\u001b[39;00m\n",
      "File \u001b[0;32m/opt/conda/envs/pose/lib/python3.8/site-packages/mediapipe/__init__.py:20\u001b[0m\n\u001b[1;32m     16\u001b[0m \u001b[39mimport\u001b[39;00m \u001b[39mmediapipe\u001b[39;00m\u001b[39m.\u001b[39;00m\u001b[39mpython\u001b[39;00m\u001b[39m.\u001b[39;00m\u001b[39msolutions\u001b[39;00m \u001b[39mas\u001b[39;00m \u001b[39msolutions\u001b[39;00m \n\u001b[1;32m     17\u001b[0m \u001b[39mimport\u001b[39;00m \u001b[39mmediapipe\u001b[39;00m\u001b[39m.\u001b[39;00m\u001b[39mtasks\u001b[39;00m\u001b[39m.\u001b[39;00m\u001b[39mpython\u001b[39;00m \u001b[39mas\u001b[39;00m \u001b[39mtasks\u001b[39;00m\n\u001b[0;32m---> 20\u001b[0m \u001b[39mdel\u001b[39;00m framework\n\u001b[1;32m     21\u001b[0m \u001b[39mdel\u001b[39;00m gpu\n\u001b[1;32m     22\u001b[0m \u001b[39mdel\u001b[39;00m modules\n",
      "\u001b[0;31mNameError\u001b[0m: name 'framework' is not defined"
     ]
    }
   ],
   "source": [
    "import mediapipe as mp # Import mediapipe\n",
    "import cv2 # Import opencv\n",
    "import csv\n",
    "import os\n",
    "import numpy as np\n",
    "import pandas as pd\n",
    "import time\n",
    "from sklearn.model_selection import train_test_split\n",
    "from sklearn.pipeline import make_pipeline \n",
    "from sklearn.preprocessing import StandardScaler \n",
    "\n",
    "from sklearn.linear_model import LogisticRegression, RidgeClassifier\n",
    "from sklearn.ensemble import RandomForestClassifier, GradientBoostingClassifier\n",
    "from sklearn.metrics import accuracy_score # Accuracy metrics \n",
    "import pickle "
   ]
  },
  {
   "cell_type": "code",
   "execution_count": 5,
   "id": "2751ac39",
   "metadata": {},
   "outputs": [
    {
     "ename": "NameError",
     "evalue": "name 'mp' is not defined",
     "output_type": "error",
     "traceback": [
      "\u001b[0;31m---------------------------------------------------------------------------\u001b[0m",
      "\u001b[0;31mNameError\u001b[0m                                 Traceback (most recent call last)",
      "Cell \u001b[0;32mIn[5], line 1\u001b[0m\n\u001b[0;32m----> 1\u001b[0m mp_drawing \u001b[39m=\u001b[39m mp\u001b[39m.\u001b[39msolutions\u001b[39m.\u001b[39mdrawing_utils\n\u001b[1;32m      2\u001b[0m mp_pose \u001b[39m=\u001b[39m mp\u001b[39m.\u001b[39msolutions\u001b[39m.\u001b[39mpose\n\u001b[1;32m      3\u001b[0m mp_holistic \u001b[39m=\u001b[39m mp\u001b[39m.\u001b[39msolutions\u001b[39m.\u001b[39mholistic\n",
      "\u001b[0;31mNameError\u001b[0m: name 'mp' is not defined"
     ]
    }
   ],
   "source": [
    "mp_drawing = mp.solutions.drawing_utils\n",
    "mp_pose = mp.solutions.pose\n",
    "mp_holistic = mp.solutions.holistic\n",
    "mp_drawing_styles = mp.solutions.drawing_styles"
   ]
  },
  {
   "cell_type": "code",
   "execution_count": 6,
   "id": "c176bab1",
   "metadata": {},
   "outputs": [],
   "source": [
    "def calculate_angle(a,b):\n",
    "    a = np.array(a)\n",
    "    b = np.array(b)\n",
    "    \n",
    "    radians = np.arctan2(b[1]-a[1], b[0]-a[0])\n",
    "    angle = np.abs(radians*180.0/np.pi)\n",
    "\n",
    "    return angle "
   ]
  },
  {
   "cell_type": "code",
   "execution_count": 10,
   "id": "dea8319a",
   "metadata": {},
   "outputs": [
    {
     "ename": "NameError",
     "evalue": "name 'cv2' is not defined",
     "output_type": "error",
     "traceback": [
      "\u001b[0;31m---------------------------------------------------------------------------\u001b[0m",
      "\u001b[0;31mNameError\u001b[0m                                 Traceback (most recent call last)",
      "Cell \u001b[0;32mIn[10], line 1\u001b[0m\n\u001b[0;32m----> 1\u001b[0m cap \u001b[39m=\u001b[39m cv2\u001b[39m.\u001b[39mVideoCapture(\u001b[39m'\u001b[39m\u001b[39m../../Downloads/mhchoi.mp4\u001b[39m\u001b[39m'\u001b[39m)\n\u001b[1;32m      2\u001b[0m anomaly \u001b[39m=\u001b[39m {\u001b[39m'\u001b[39m\u001b[39mshoulder\u001b[39m\u001b[39m'\u001b[39m:[],\u001b[39m'\u001b[39m\u001b[39mhand\u001b[39m\u001b[39m'\u001b[39m:[]}\n\u001b[1;32m      4\u001b[0m features \u001b[39m=\u001b[39m[\u001b[39m'\u001b[39m\u001b[39mleft_wrist\u001b[39m\u001b[39m'\u001b[39m,\u001b[39m'\u001b[39m\u001b[39mleft_pinky\u001b[39m\u001b[39m'\u001b[39m,\u001b[39m'\u001b[39m\u001b[39mleft_index\u001b[39m\u001b[39m'\u001b[39m,\u001b[39m'\u001b[39m\u001b[39mleft_thumb\u001b[39m\u001b[39m'\u001b[39m,\n\u001b[1;32m      5\u001b[0m \u001b[39m'\u001b[39m\u001b[39mright_wrist\u001b[39m\u001b[39m'\u001b[39m,\u001b[39m'\u001b[39m\u001b[39mright_pinky\u001b[39m\u001b[39m'\u001b[39m,\u001b[39m'\u001b[39m\u001b[39mright_index\u001b[39m\u001b[39m'\u001b[39m,\u001b[39m'\u001b[39m\u001b[39mright_thumb\u001b[39m\u001b[39m'\u001b[39m]\n",
      "\u001b[0;31mNameError\u001b[0m: name 'cv2' is not defined"
     ]
    }
   ],
   "source": [
    "cap = cv2.VideoCapture('./mhchoi.mp4')\n",
    "anomaly = {'shoulder':[],'hand':[]}\n",
    "\n",
    "features =['left_wrist','left_pinky','left_index','left_thumb',\n",
    "'right_wrist','right_pinky','right_index','right_thumb']\n",
    "\n",
    "# Initiate holistic model\n",
    "with mp_holistic.Holistic(min_detection_confidence=0.5, min_tracking_confidence=0.5) as holistic:\n",
    "    start_time = datetime.now()\n",
    "    \n",
    "    while cap.isOpened():\n",
    "        ret, frame = cap.read()\n",
    "        if not ret:\n",
    "            break \n",
    "        # Recolor Feed\n",
    "        image = cv2.cvtColor(frame, cv2.COLOR_BGR2RGB)\n",
    "        image.flags.writeable = False        \n",
    "        \n",
    "        # Make Detections\n",
    "        results = holistic.process(image)\n",
    "\n",
    "        # Recolor image back to BGR for rendering\n",
    "        image.flags.writeable = True   \n",
    "        image = cv2.cvtColor(image, cv2.COLOR_RGB2BGR)\n",
    "        \n",
    "        # # 1. Draw face landmarks\n",
    "        # mp_drawing.draw_landmarks(image, results.face_landmarks, mp_holistic.FACEMESH_CONTOURS, \n",
    "        #                         mp_drawing.DrawingSpec(color=(80,110,10), thickness=1, circle_radius=1),\n",
    "        #                         mp_drawing.DrawingSpec(color=(80,256,121), thickness=1, circle_radius=1)\n",
    "        #                         )\n",
    "        \n",
    "        # 2. Right hand\n",
    "        mp_drawing.draw_landmarks(image, results.right_hand_landmarks, mp_holistic.HAND_CONNECTIONS, \n",
    "                                mp_drawing.DrawingSpec(color=(80,22,10), thickness=2, circle_radius=4),\n",
    "                                mp_drawing.DrawingSpec(color=(80,44,121), thickness=2, circle_radius=2)\n",
    "                                )\n",
    "\n",
    "        # 3. Left Hand\n",
    "        mp_drawing.draw_landmarks(image, results.left_hand_landmarks, mp_holistic.HAND_CONNECTIONS, \n",
    "                                mp_drawing.DrawingSpec(color=(121,22,76), thickness=2, circle_radius=4),\n",
    "                                mp_drawing.DrawingSpec(color=(121,44,250), thickness=2, circle_radius=2)\n",
    "                                )\n",
    "\n",
    "        # 4. Pose Detections\n",
    "        mp_drawing.draw_landmarks(image, results.pose_landmarks, mp_holistic.POSE_CONNECTIONS, \n",
    "                                mp_drawing.DrawingSpec(color=(245,117,66), thickness=2, circle_radius=4),\n",
    "                                mp_drawing.DrawingSpec(color=(245,66,230), thickness=2, circle_radius=2)\n",
    "                                )\n",
    "        # Export coordinates\n",
    "        try:\n",
    "            landmarks = results.pose_landmarks.landmark\n",
    "            \n",
    "            # Get shoulder coordinates\n",
    "            left_shoulder = [landmarks[mp_pose.PoseLandmark.LEFT_SHOULDER].x,landmarks[mp_pose.PoseLandmark.LEFT_SHOULDER].y]\n",
    "            right_shoulder = [landmarks[mp_pose.PoseLandmark.RIGHT_SHOULDER].x,landmarks[mp_pose.PoseLandmark.RIGHT_SHOULDER].y]\n",
    "            \n",
    "            # Calculate shoulder angle\n",
    "            angle = calculate_angle(left_shoulder, right_shoulder)\n",
    "            if angle<=170: # 기준 정해야함\n",
    "                anomaly['shoulder'].append(time.time())\n",
    "            else:\n",
    "                shoulder_seconds = anomaly[\"shoulder\"][-1]-anomaly[\"shoulder\"][0]\n",
    "                if shoulder_seconds >= 1e-3:\n",
    "                    print(f'{shoulder_seconds:.3f}초 동안 자세가 좋지 않았습니다.')\n",
    "                anomaly['shoulder']=[]\n",
    "\n",
    "            if results.left_hand_landmarks or results.right_hand_landmarks:\n",
    "                current_time = datetime.now()\n",
    "                target_time = current_time - start_time\n",
    "                print(f'{target_time.total_seconds():.3f}초에 손이 나왔습니다.')\n",
    "\n",
    "\n",
    "        except:\n",
    "            pass\n",
    "                        \n",
    "        cv2.imshow('Video Feed', image)\n",
    "        \n",
    "        if cv2.waitKey(10) & 0xFF == ord(\"q\"):\n",
    "            break\n",
    "\n",
    "cap.release()\n",
    "cv2.destroyAllWindows()\n",
    "cv2.waitKey(1)\n",
    "cv2.waitKey(1)\n",
    "cv2.waitKey(1)\n",
    "cv2.waitKey(1)"
   ]
  },
  {
   "cell_type": "code",
   "execution_count": 68,
   "id": "4a6c360c",
   "metadata": {},
   "outputs": [
    {
     "data": {
      "text/plain": [
       "x: 0.9589765667915344\n",
       "y: 1.5836498737335205\n",
       "z: -0.9355209469795227\n",
       "visibility: 0.08272692561149597"
      ]
     },
     "execution_count": 68,
     "metadata": {},
     "output_type": "execute_result"
    }
   ],
   "source": [
    "landmarks[mp_pose.PoseLandmark['LEFT_WRIST']]"
   ]
  },
  {
   "cell_type": "code",
   "execution_count": 104,
   "id": "e4b25e2f",
   "metadata": {},
   "outputs": [
    {
     "data": {
      "text/plain": [
       "[time.struct_time(tm_year=2023, tm_mon=1, tm_mday=14, tm_hour=2, tm_min=39, tm_sec=17, tm_wday=5, tm_yday=14, tm_isdst=0),\n",
       " time.struct_time(tm_year=2023, tm_mon=1, tm_mday=14, tm_hour=2, tm_min=39, tm_sec=17, tm_wday=5, tm_yday=14, tm_isdst=0),\n",
       " time.struct_time(tm_year=2023, tm_mon=1, tm_mday=14, tm_hour=2, tm_min=39, tm_sec=17, tm_wday=5, tm_yday=14, tm_isdst=0),\n",
       " time.struct_time(tm_year=2023, tm_mon=1, tm_mday=14, tm_hour=2, tm_min=39, tm_sec=18, tm_wday=5, tm_yday=14, tm_isdst=0),\n",
       " time.struct_time(tm_year=2023, tm_mon=1, tm_mday=14, tm_hour=2, tm_min=39, tm_sec=18, tm_wday=5, tm_yday=14, tm_isdst=0),\n",
       " time.struct_time(tm_year=2023, tm_mon=1, tm_mday=14, tm_hour=2, tm_min=39, tm_sec=19, tm_wday=5, tm_yday=14, tm_isdst=0),\n",
       " time.struct_time(tm_year=2023, tm_mon=1, tm_mday=14, tm_hour=2, tm_min=39, tm_sec=19, tm_wday=5, tm_yday=14, tm_isdst=0),\n",
       " time.struct_time(tm_year=2023, tm_mon=1, tm_mday=14, tm_hour=2, tm_min=39, tm_sec=19, tm_wday=5, tm_yday=14, tm_isdst=0),\n",
       " time.struct_time(tm_year=2023, tm_mon=1, tm_mday=14, tm_hour=2, tm_min=39, tm_sec=19, tm_wday=5, tm_yday=14, tm_isdst=0),\n",
       " time.struct_time(tm_year=2023, tm_mon=1, tm_mday=14, tm_hour=2, tm_min=39, tm_sec=19, tm_wday=5, tm_yday=14, tm_isdst=0),\n",
       " time.struct_time(tm_year=2023, tm_mon=1, tm_mday=14, tm_hour=2, tm_min=39, tm_sec=19, tm_wday=5, tm_yday=14, tm_isdst=0),\n",
       " time.struct_time(tm_year=2023, tm_mon=1, tm_mday=14, tm_hour=2, tm_min=39, tm_sec=20, tm_wday=5, tm_yday=14, tm_isdst=0),\n",
       " time.struct_time(tm_year=2023, tm_mon=1, tm_mday=14, tm_hour=2, tm_min=39, tm_sec=20, tm_wday=5, tm_yday=14, tm_isdst=0),\n",
       " time.struct_time(tm_year=2023, tm_mon=1, tm_mday=14, tm_hour=2, tm_min=39, tm_sec=22, tm_wday=5, tm_yday=14, tm_isdst=0),\n",
       " time.struct_time(tm_year=2023, tm_mon=1, tm_mday=14, tm_hour=2, tm_min=39, tm_sec=22, tm_wday=5, tm_yday=14, tm_isdst=0)]"
      ]
     },
     "execution_count": 104,
     "metadata": {},
     "output_type": "execute_result"
    }
   ],
   "source": [
    "anomaly['hand']"
   ]
  },
  {
   "cell_type": "code",
   "execution_count": null,
   "id": "b29cf5d1",
   "metadata": {},
   "outputs": [],
   "source": []
  }
 ],
 "metadata": {
  "kernelspec": {
   "display_name": "pose",
   "language": "python",
   "name": "python3"
  },
  "language_info": {
   "codemirror_mode": {
    "name": "ipython",
    "version": 3
   },
   "file_extension": ".py",
   "mimetype": "text/x-python",
   "name": "python",
   "nbconvert_exporter": "python",
   "pygments_lexer": "ipython3",
   "version": "3.8.0"
  },
  "vscode": {
   "interpreter": {
    "hash": "d84f9e689b4da14df356193ce4b0bd61aa235b3155a9d57104ab9fa4d364d23a"
   }
  }
 },
 "nbformat": 4,
 "nbformat_minor": 5
}
