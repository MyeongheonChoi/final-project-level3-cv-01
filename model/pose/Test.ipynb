{
 "cells": [
  {
   "cell_type": "code",
   "execution_count": 1,
   "id": "27ab8aab",
   "metadata": {},
   "outputs": [],
   "source": [
    "import mediapipe as mp # Import mediapipe\n",
    "import cv2 # Import opencv\n",
    "import csv\n",
    "import os\n",
    "import numpy as np\n",
    "import pandas as pd\n",
    "import time\n",
    "from sklearn.model_selection import train_test_split\n",
    "from sklearn.pipeline import make_pipeline \n",
    "from sklearn.preprocessing import StandardScaler \n",
    "\n",
    "from sklearn.linear_model import LogisticRegression, RidgeClassifier\n",
    "from sklearn.ensemble import RandomForestClassifier, GradientBoostingClassifier\n",
    "from sklearn.metrics import accuracy_score # Accuracy metrics \n",
    "import pickle "
   ]
  },
  {
   "cell_type": "code",
   "execution_count": 2,
   "id": "2751ac39",
   "metadata": {},
   "outputs": [],
   "source": [
    "mp_drawing = mp.solutions.drawing_utils\n",
    "mp_pose = mp.solutions.pose\n",
    "mp_holistic = mp.solutions.holistic\n",
    "mp_drawing_styles = mp.solutions.drawing_styles"
   ]
  },
  {
   "cell_type": "code",
   "execution_count": 3,
   "id": "c176bab1",
   "metadata": {},
   "outputs": [],
   "source": [
    "def calculate_angle(a,b):\n",
    "    a = np.array(a)\n",
    "    b = np.array(b)\n",
    "    \n",
    "    radians = np.arctan2(b[1]-a[1], b[0]-a[0])\n",
    "    angle = np.abs(radians*180.0/np.pi)\n",
    "\n",
    "    return angle "
   ]
  },
  {
   "cell_type": "code",
   "execution_count": 57,
   "id": "26628933",
   "metadata": {},
   "outputs": [],
   "source": [
    "def are_last_two_elements_equal(arr):\n",
    "    if not arr or len(arr) < 2:\n",
    "        return False\n",
    "    return arr[-2] == arr[-1]"
   ]
  },
  {
   "cell_type": "code",
   "execution_count": 113,
   "id": "dea8319a",
   "metadata": {},
   "outputs": [
    {
     "name": "stdout",
     "output_type": "stream",
     "text": [
      "[<PoseLandmark.LEFT_WRIST: 15>, <PoseLandmark.LEFT_PINKY: 17>, <PoseLandmark.LEFT_INDEX: 19>, <PoseLandmark.LEFT_THUMB: 21>, <PoseLandmark.RIGHT_WRIST: 16>, <PoseLandmark.RIGHT_PINKY: 18>, <PoseLandmark.RIGHT_INDEX: 20>, <PoseLandmark.RIGHT_THUMB: 22>]\n",
      "[<PoseLandmark.LEFT_WRIST: 15>, <PoseLandmark.LEFT_PINKY: 17>, <PoseLandmark.LEFT_INDEX: 19>, <PoseLandmark.LEFT_THUMB: 21>, <PoseLandmark.RIGHT_WRIST: 16>, <PoseLandmark.RIGHT_PINKY: 18>, <PoseLandmark.RIGHT_INDEX: 20>, <PoseLandmark.RIGHT_THUMB: 22>]\n",
      "0.055초 동안 자세가 좋지 않았습니다.\n",
      "[<PoseLandmark.LEFT_WRIST: 15>, <PoseLandmark.LEFT_PINKY: 17>, <PoseLandmark.LEFT_INDEX: 19>, <PoseLandmark.LEFT_THUMB: 21>, <PoseLandmark.RIGHT_WRIST: 16>, <PoseLandmark.RIGHT_PINKY: 18>, <PoseLandmark.RIGHT_INDEX: 20>, <PoseLandmark.RIGHT_THUMB: 22>]\n",
      "[<PoseLandmark.LEFT_WRIST: 15>, <PoseLandmark.LEFT_PINKY: 17>, <PoseLandmark.LEFT_INDEX: 19>, <PoseLandmark.LEFT_THUMB: 21>, <PoseLandmark.RIGHT_WRIST: 16>, <PoseLandmark.RIGHT_PINKY: 18>, <PoseLandmark.RIGHT_INDEX: 20>, <PoseLandmark.RIGHT_THUMB: 22>]\n",
      "[<PoseLandmark.LEFT_WRIST: 15>, <PoseLandmark.LEFT_PINKY: 17>, <PoseLandmark.LEFT_INDEX: 19>, <PoseLandmark.LEFT_THUMB: 21>, <PoseLandmark.RIGHT_WRIST: 16>, <PoseLandmark.RIGHT_PINKY: 18>, <PoseLandmark.RIGHT_INDEX: 20>, <PoseLandmark.RIGHT_THUMB: 22>]\n",
      "[<PoseLandmark.LEFT_WRIST: 15>, <PoseLandmark.LEFT_PINKY: 17>, <PoseLandmark.LEFT_INDEX: 19>, <PoseLandmark.LEFT_THUMB: 21>, <PoseLandmark.RIGHT_WRIST: 16>, <PoseLandmark.RIGHT_PINKY: 18>, <PoseLandmark.RIGHT_INDEX: 20>, <PoseLandmark.RIGHT_THUMB: 22>]\n",
      "[<PoseLandmark.LEFT_WRIST: 15>, <PoseLandmark.LEFT_PINKY: 17>, <PoseLandmark.LEFT_INDEX: 19>, <PoseLandmark.LEFT_THUMB: 21>, <PoseLandmark.RIGHT_WRIST: 16>, <PoseLandmark.RIGHT_PINKY: 18>, <PoseLandmark.RIGHT_INDEX: 20>, <PoseLandmark.RIGHT_THUMB: 22>]\n",
      "[<PoseLandmark.LEFT_WRIST: 15>, <PoseLandmark.LEFT_PINKY: 17>, <PoseLandmark.LEFT_INDEX: 19>, <PoseLandmark.LEFT_THUMB: 21>, <PoseLandmark.RIGHT_WRIST: 16>, <PoseLandmark.RIGHT_PINKY: 18>, <PoseLandmark.RIGHT_INDEX: 20>, <PoseLandmark.RIGHT_THUMB: 22>]\n",
      "0.223초 동안 자세가 좋지 않았습니다.\n",
      "[<PoseLandmark.LEFT_WRIST: 15>, <PoseLandmark.LEFT_PINKY: 17>, <PoseLandmark.LEFT_INDEX: 19>, <PoseLandmark.LEFT_THUMB: 21>, <PoseLandmark.RIGHT_WRIST: 16>, <PoseLandmark.RIGHT_PINKY: 18>, <PoseLandmark.RIGHT_INDEX: 20>, <PoseLandmark.RIGHT_THUMB: 22>]\n",
      "[<PoseLandmark.LEFT_WRIST: 15>, <PoseLandmark.LEFT_PINKY: 17>, <PoseLandmark.LEFT_INDEX: 19>, <PoseLandmark.LEFT_THUMB: 21>, <PoseLandmark.RIGHT_WRIST: 16>, <PoseLandmark.RIGHT_PINKY: 18>, <PoseLandmark.RIGHT_INDEX: 20>, <PoseLandmark.RIGHT_THUMB: 22>]\n",
      "[<PoseLandmark.LEFT_WRIST: 15>, <PoseLandmark.LEFT_PINKY: 17>, <PoseLandmark.LEFT_INDEX: 19>, <PoseLandmark.LEFT_THUMB: 21>, <PoseLandmark.RIGHT_WRIST: 16>, <PoseLandmark.RIGHT_PINKY: 18>, <PoseLandmark.RIGHT_INDEX: 20>, <PoseLandmark.RIGHT_THUMB: 22>]\n",
      "[<PoseLandmark.LEFT_WRIST: 15>, <PoseLandmark.LEFT_PINKY: 17>, <PoseLandmark.LEFT_INDEX: 19>, <PoseLandmark.LEFT_THUMB: 21>, <PoseLandmark.RIGHT_WRIST: 16>, <PoseLandmark.RIGHT_PINKY: 18>, <PoseLandmark.RIGHT_INDEX: 20>, <PoseLandmark.RIGHT_THUMB: 22>]\n",
      "[<PoseLandmark.LEFT_WRIST: 15>, <PoseLandmark.LEFT_PINKY: 17>, <PoseLandmark.LEFT_INDEX: 19>, <PoseLandmark.LEFT_THUMB: 21>, <PoseLandmark.RIGHT_WRIST: 16>, <PoseLandmark.RIGHT_PINKY: 18>, <PoseLandmark.RIGHT_INDEX: 20>, <PoseLandmark.RIGHT_THUMB: 22>]\n",
      "[<PoseLandmark.LEFT_WRIST: 15>, <PoseLandmark.LEFT_PINKY: 17>, <PoseLandmark.LEFT_INDEX: 19>, <PoseLandmark.LEFT_THUMB: 21>, <PoseLandmark.RIGHT_WRIST: 16>, <PoseLandmark.RIGHT_PINKY: 18>, <PoseLandmark.RIGHT_INDEX: 20>, <PoseLandmark.RIGHT_THUMB: 22>]\n",
      "[<PoseLandmark.LEFT_WRIST: 15>, <PoseLandmark.LEFT_PINKY: 17>, <PoseLandmark.LEFT_INDEX: 19>, <PoseLandmark.LEFT_THUMB: 21>, <PoseLandmark.RIGHT_WRIST: 16>, <PoseLandmark.RIGHT_PINKY: 18>, <PoseLandmark.RIGHT_INDEX: 20>, <PoseLandmark.RIGHT_THUMB: 22>]\n"
     ]
    },
    {
     "data": {
      "text/plain": [
       "-1"
      ]
     },
     "execution_count": 113,
     "metadata": {},
     "output_type": "execute_result"
    }
   ],
   "source": [
    "cap = cv2.VideoCapture('../../Downloads/mhchoi.mp4')\n",
    "\n",
    "anomaly = {'shoulder':[],'hand':[]}\n",
    "\n",
    "features =['left_wrist','left_pinky','left_index','left_thumb',\n",
    "'right_wrist','right_pinky','right_index','right_thumb']\n",
    "\n",
    "# Initiate holistic model\n",
    "with mp_holistic.Holistic(min_detection_confidence=0.5, min_tracking_confidence=0.5) as holistic:\n",
    "    \n",
    "    while cap.isOpened():\n",
    "        ret, frame = cap.read()\n",
    "        if not ret:\n",
    "            break \n",
    "        # Recolor Feed\n",
    "        image = cv2.cvtColor(frame, cv2.COLOR_BGR2RGB)\n",
    "        image.flags.writeable = False        \n",
    "        \n",
    "        # Make Detections\n",
    "        results = holistic.process(image)\n",
    "        # print(results.face_landmarks)\n",
    "        \n",
    "        # face_landmarks, pose_landmarks, left_hand_landmarks, right_hand_landmarks\n",
    "        \n",
    "        # Recolor image back to BGR for rendering\n",
    "        image.flags.writeable = True   \n",
    "        image = cv2.cvtColor(image, cv2.COLOR_RGB2BGR)\n",
    "        \n",
    "        # # 1. Draw face landmarks\n",
    "        # mp_drawing.draw_landmarks(image, results.face_landmarks, mp_holistic.FACEMESH_CONTOURS, \n",
    "        #                         mp_drawing.DrawingSpec(color=(80,110,10), thickness=1, circle_radius=1),\n",
    "        #                         mp_drawing.DrawingSpec(color=(80,256,121), thickness=1, circle_radius=1)\n",
    "        #                         )\n",
    "        \n",
    "        # 2. Right hand\n",
    "        mp_drawing.draw_landmarks(image, results.right_hand_landmarks, mp_holistic.HAND_CONNECTIONS, \n",
    "                                mp_drawing.DrawingSpec(color=(80,22,10), thickness=2, circle_radius=4),\n",
    "                                mp_drawing.DrawingSpec(color=(80,44,121), thickness=2, circle_radius=2)\n",
    "                                )\n",
    "\n",
    "        # 3. Left Hand\n",
    "        mp_drawing.draw_landmarks(image, results.left_hand_landmarks, mp_holistic.HAND_CONNECTIONS, \n",
    "                                mp_drawing.DrawingSpec(color=(121,22,76), thickness=2, circle_radius=4),\n",
    "                                mp_drawing.DrawingSpec(color=(121,44,250), thickness=2, circle_radius=2)\n",
    "                                )\n",
    "\n",
    "        # 4. Pose Detections\n",
    "        mp_drawing.draw_landmarks(image, results.pose_landmarks, mp_holistic.POSE_CONNECTIONS, \n",
    "                                mp_drawing.DrawingSpec(color=(245,117,66), thickness=2, circle_radius=4),\n",
    "                                mp_drawing.DrawingSpec(color=(245,66,230), thickness=2, circle_radius=2)\n",
    "                                )\n",
    "        # Export coordinates\n",
    "        try:\n",
    "            landmarks = results.pose_landmarks.landmark\n",
    "            \n",
    "            # Get shoulder coordinates\n",
    "            left_shoulder = [landmarks[mp_pose.PoseLandmark.LEFT_SHOULDER].x,landmarks[mp_pose.PoseLandmark.LEFT_SHOULDER].y]\n",
    "            right_shoulder = [landmarks[mp_pose.PoseLandmark.RIGHT_SHOULDER].x,landmarks[mp_pose.PoseLandmark.RIGHT_SHOULDER].y]\n",
    "            \n",
    "            # Calculate shoulder angle\n",
    "            angle = calculate_angle(left_shoulder, right_shoulder)\n",
    "            if angle<=170: # 기준 정해야함\n",
    "                anomaly['shoulder'].append(time.time())\n",
    "            else:\n",
    "                shoulder_seconds = anomaly[\"shoulder\"][-1]-anomaly[\"shoulder\"][0]\n",
    "                if shoulder_seconds >= 1e-3:\n",
    "                    print(f'{shoulder_seconds:.3f}초 동안 자세가 좋지 않았습니다.')\n",
    "                anomaly['shoulder']=[]\n",
    "\n",
    "            \n",
    "            if any(mp_pose.PoseLandmark[feature.upper()] for feature in features):\n",
    "                print([mp_pose.PoseLandmark[feature.upper()] for feature in features])\n",
    "                anomaly['hand'].append(time.time())\n",
    "\n",
    "            elif all(mp_pose.PoseLandmark[feature.upper()] for feature in features) == False:\n",
    "                if anomaly['hand']:\n",
    "                    hand_seconds = anomaly['hand'][-1]-anomaly['hand'][0]\n",
    "                    print(f'{hand_seconds:.3f}초 동안 손이 나왔습니다')\n",
    "                    anomaly['hand']=[]\n",
    "\n",
    "            #   \n",
    "            # if not any(mp_pose.PoseLandmark[feature.upper()] for feature in features):\n",
    "            #     hand_seconds = anomaly['hand'][-1]-anomaly['hand'][0]\n",
    "            #     print(f'{hand_seconds:.3f}초 동안 손이 나왔습니다')\n",
    "            #     # anomaly['hand']=[]\n",
    "        \n",
    "                \n",
    "        \n",
    "\n",
    "        except:\n",
    "            pass\n",
    "                        \n",
    "        cv2.imshow('Video Feed', image)\n",
    "        \n",
    "        if cv2.waitKey(10) & 0xFF == ord(\"q\"):\n",
    "            break\n",
    "\n",
    "\n",
    "cap.release()\n",
    "cv2.destroyAllWindows()\n",
    "cv2.waitKey(1)\n",
    "cv2.waitKey(1)\n",
    "cv2.waitKey(1)\n",
    "cv2.waitKey(1)"
   ]
  },
  {
   "cell_type": "code",
   "execution_count": 68,
   "id": "4a6c360c",
   "metadata": {},
   "outputs": [
    {
     "data": {
      "text/plain": [
       "x: 0.9589765667915344\n",
       "y: 1.5836498737335205\n",
       "z: -0.9355209469795227\n",
       "visibility: 0.08272692561149597"
      ]
     },
     "execution_count": 68,
     "metadata": {},
     "output_type": "execute_result"
    }
   ],
   "source": [
    "landmarks[mp_pose.PoseLandmark['LEFT_WRIST']]"
   ]
  },
  {
   "cell_type": "code",
   "execution_count": 104,
   "id": "e4b25e2f",
   "metadata": {},
   "outputs": [
    {
     "data": {
      "text/plain": [
       "[time.struct_time(tm_year=2023, tm_mon=1, tm_mday=14, tm_hour=2, tm_min=39, tm_sec=17, tm_wday=5, tm_yday=14, tm_isdst=0),\n",
       " time.struct_time(tm_year=2023, tm_mon=1, tm_mday=14, tm_hour=2, tm_min=39, tm_sec=17, tm_wday=5, tm_yday=14, tm_isdst=0),\n",
       " time.struct_time(tm_year=2023, tm_mon=1, tm_mday=14, tm_hour=2, tm_min=39, tm_sec=17, tm_wday=5, tm_yday=14, tm_isdst=0),\n",
       " time.struct_time(tm_year=2023, tm_mon=1, tm_mday=14, tm_hour=2, tm_min=39, tm_sec=18, tm_wday=5, tm_yday=14, tm_isdst=0),\n",
       " time.struct_time(tm_year=2023, tm_mon=1, tm_mday=14, tm_hour=2, tm_min=39, tm_sec=18, tm_wday=5, tm_yday=14, tm_isdst=0),\n",
       " time.struct_time(tm_year=2023, tm_mon=1, tm_mday=14, tm_hour=2, tm_min=39, tm_sec=19, tm_wday=5, tm_yday=14, tm_isdst=0),\n",
       " time.struct_time(tm_year=2023, tm_mon=1, tm_mday=14, tm_hour=2, tm_min=39, tm_sec=19, tm_wday=5, tm_yday=14, tm_isdst=0),\n",
       " time.struct_time(tm_year=2023, tm_mon=1, tm_mday=14, tm_hour=2, tm_min=39, tm_sec=19, tm_wday=5, tm_yday=14, tm_isdst=0),\n",
       " time.struct_time(tm_year=2023, tm_mon=1, tm_mday=14, tm_hour=2, tm_min=39, tm_sec=19, tm_wday=5, tm_yday=14, tm_isdst=0),\n",
       " time.struct_time(tm_year=2023, tm_mon=1, tm_mday=14, tm_hour=2, tm_min=39, tm_sec=19, tm_wday=5, tm_yday=14, tm_isdst=0),\n",
       " time.struct_time(tm_year=2023, tm_mon=1, tm_mday=14, tm_hour=2, tm_min=39, tm_sec=19, tm_wday=5, tm_yday=14, tm_isdst=0),\n",
       " time.struct_time(tm_year=2023, tm_mon=1, tm_mday=14, tm_hour=2, tm_min=39, tm_sec=20, tm_wday=5, tm_yday=14, tm_isdst=0),\n",
       " time.struct_time(tm_year=2023, tm_mon=1, tm_mday=14, tm_hour=2, tm_min=39, tm_sec=20, tm_wday=5, tm_yday=14, tm_isdst=0),\n",
       " time.struct_time(tm_year=2023, tm_mon=1, tm_mday=14, tm_hour=2, tm_min=39, tm_sec=22, tm_wday=5, tm_yday=14, tm_isdst=0),\n",
       " time.struct_time(tm_year=2023, tm_mon=1, tm_mday=14, tm_hour=2, tm_min=39, tm_sec=22, tm_wday=5, tm_yday=14, tm_isdst=0)]"
      ]
     },
     "execution_count": 104,
     "metadata": {},
     "output_type": "execute_result"
    }
   ],
   "source": [
    "anomaly['hand']"
   ]
  },
  {
   "cell_type": "code",
   "execution_count": null,
   "id": "b29cf5d1",
   "metadata": {},
   "outputs": [],
   "source": []
  }
 ],
 "metadata": {
  "kernelspec": {
   "display_name": "pose_estimation",
   "language": "python",
   "name": "python3"
  },
  "language_info": {
   "codemirror_mode": {
    "name": "ipython",
    "version": 3
   },
   "file_extension": ".py",
   "mimetype": "text/x-python",
   "name": "python",
   "nbconvert_exporter": "python",
   "pygments_lexer": "ipython3",
   "version": "3.8.0 (default, Nov  6 2019, 15:49:01) \n[Clang 4.0.1 (tags/RELEASE_401/final)]"
  },
  "vscode": {
   "interpreter": {
    "hash": "71026ed5b92cd8c37a498eb953c7546fe395b81ac10dd99c1d1e9b083d24d26f"
   }
  }
 },
 "nbformat": 4,
 "nbformat_minor": 5
}
