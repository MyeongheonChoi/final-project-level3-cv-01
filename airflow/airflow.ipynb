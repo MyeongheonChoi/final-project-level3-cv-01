{
 "cells": [
  {
   "cell_type": "code",
   "execution_count": 1,
   "metadata": {},
   "outputs": [],
   "source": [
    "import os\n",
    "from glob import glob\n",
    "import pendulum\n",
    "from datetime import time, timedelta, datetime\n",
    "from pytz import timezone"
   ]
  },
  {
   "cell_type": "code",
   "execution_count": 2,
   "metadata": {},
   "outputs": [],
   "source": [
    "start_time = datetime.now(timezone(\"Asia/Seoul\")).strftime(\"%y%m%d_%H%M%S\")"
   ]
  },
  {
   "cell_type": "code",
   "execution_count": 2,
   "metadata": {},
   "outputs": [
    {
     "data": {
      "text/plain": [
       "[]"
      ]
     },
     "execution_count": 2,
     "metadata": {},
     "output_type": "execute_result"
    }
   ],
   "source": [
    "output = glob('/opt/ml/final-project-level3-cv-01/airflow/heyi-storage/*/*')\n",
    "output"
   ]
  },
  {
   "cell_type": "code",
   "execution_count": 24,
   "metadata": {},
   "outputs": [
    {
     "data": {
      "text/plain": [
       "['/opt/ml/final-project-level3-cv-01/airflow/heyi-storage/최명헌_5126/230203_124119/face_recording.webm',\n",
       " '/opt/ml/final-project-level3-cv-01/airflow/heyi-storage/최명헌_5126/230203_124119/eye_recording.webm',\n",
       " '/opt/ml/final-project-level3-cv-01/airflow/heyi-storage/최명헌_5126/230203_124119/recording.webm',\n",
       " '/opt/ml/final-project-level3-cv-01/airflow/heyi-storage/최명헌_5126/230203_122925/pose_recording.webm',\n",
       " '/opt/ml/final-project-level3-cv-01/airflow/heyi-storage/최명헌_5126/230203_122925/face_recording.webm',\n",
       " '/opt/ml/final-project-level3-cv-01/airflow/heyi-storage/최명헌_5126/230203_122925/eye_recording.webm',\n",
       " '/opt/ml/final-project-level3-cv-01/airflow/heyi-storage/최명헌_5126/230203_122925/recording.webm',\n",
       " '/opt/ml/final-project-level3-cv-01/airflow/heyi-storage/최명헌_5126/230204_021257/pose_recording.webm',\n",
       " '/opt/ml/final-project-level3-cv-01/airflow/heyi-storage/최명헌_5126/230204_021257/face_recording.webm',\n",
       " '/opt/ml/final-project-level3-cv-01/airflow/heyi-storage/최명헌_5126/230204_021257/eye_recording.webm',\n",
       " '/opt/ml/final-project-level3-cv-01/airflow/heyi-storage/최명헌_5126/230204_021257/recording.webm',\n",
       " '/opt/ml/final-project-level3-cv-01/airflow/heyi-storage/최명헌_5126/230203_173222/pose_recording.webm',\n",
       " '/opt/ml/final-project-level3-cv-01/airflow/heyi-storage/최명헌_5126/230203_173222/face_recording.webm',\n",
       " '/opt/ml/final-project-level3-cv-01/airflow/heyi-storage/최명헌_5126/230203_173222/eye_recording.webm',\n",
       " '/opt/ml/final-project-level3-cv-01/airflow/heyi-storage/최명헌_5126/230203_173222/recording.webm',\n",
       " '/opt/ml/final-project-level3-cv-01/airflow/heyi-storage/최명헌_5126/230203_174218/pose_recording.webm',\n",
       " '/opt/ml/final-project-level3-cv-01/airflow/heyi-storage/최명헌_5126/230203_174218/face_recording.webm',\n",
       " '/opt/ml/final-project-level3-cv-01/airflow/heyi-storage/최명헌_5126/230203_174218/eye_recording.webm',\n",
       " '/opt/ml/final-project-level3-cv-01/airflow/heyi-storage/최명헌_5126/230203_174218/recording.webm',\n",
       " '/opt/ml/final-project-level3-cv-01/airflow/heyi-storage/yonggi_1000/230205_022631/recording.webm',\n",
       " '/opt/ml/final-project-level3-cv-01/airflow/heyi-storage/audgjs_1000/230205_153334/pose_recording.webm',\n",
       " '/opt/ml/final-project-level3-cv-01/airflow/heyi-storage/audgjs_1000/230205_153334/eye_recording.webm',\n",
       " '/opt/ml/final-project-level3-cv-01/airflow/heyi-storage/audgjs_1000/230205_153334/recording.webm',\n",
       " '/opt/ml/final-project-level3-cv-01/airflow/heyi-storage/명헌_5126/230201_104915/face_recording.webm',\n",
       " '/opt/ml/final-project-level3-cv-01/airflow/heyi-storage/명헌_5126/230201_104915/recording.webm',\n",
       " '/opt/ml/final-project-level3-cv-01/airflow/heyi-storage/명헌_5126/230202_025715/pose_recording.webm',\n",
       " '/opt/ml/final-project-level3-cv-01/airflow/heyi-storage/명헌_5126/230202_025715/face_recording.webm',\n",
       " '/opt/ml/final-project-level3-cv-01/airflow/heyi-storage/명헌_5126/230202_025715/eye_recording.webm',\n",
       " '/opt/ml/final-project-level3-cv-01/airflow/heyi-storage/명헌_5126/230202_025715/recording.webm',\n",
       " '/opt/ml/final-project-level3-cv-01/airflow/heyi-storage/명헌_5126/230205_190047/pose_recording.webm',\n",
       " '/opt/ml/final-project-level3-cv-01/airflow/heyi-storage/명헌_5126/230205_190047/face_recording.webm',\n",
       " '/opt/ml/final-project-level3-cv-01/airflow/heyi-storage/명헌_5126/230205_190047/eye_recording.webm',\n",
       " '/opt/ml/final-project-level3-cv-01/airflow/heyi-storage/명헌_5126/230205_190047/recording.webm',\n",
       " '/opt/ml/final-project-level3-cv-01/airflow/heyi-storage/명헌_5126/230201_152614/pose_recording.webm',\n",
       " '/opt/ml/final-project-level3-cv-01/airflow/heyi-storage/명헌_5126/230201_152614/face_recording.webm',\n",
       " '/opt/ml/final-project-level3-cv-01/airflow/heyi-storage/명헌_5126/230201_152614/recording.webm',\n",
       " '/opt/ml/final-project-level3-cv-01/airflow/heyi-storage/명헌_5126/230201_191351/pose_recording.webm',\n",
       " '/opt/ml/final-project-level3-cv-01/airflow/heyi-storage/명헌_5126/230201_191351/face_recording.webm',\n",
       " '/opt/ml/final-project-level3-cv-01/airflow/heyi-storage/명헌_5126/230201_191351/recording.webm',\n",
       " '/opt/ml/final-project-level3-cv-01/airflow/heyi-storage/명헌_5126/230203_121908/pose_recording.webm',\n",
       " '/opt/ml/final-project-level3-cv-01/airflow/heyi-storage/명헌_5126/230203_121908/face_recording.webm',\n",
       " '/opt/ml/final-project-level3-cv-01/airflow/heyi-storage/명헌_5126/230203_121908/eye_recording.webm',\n",
       " '/opt/ml/final-project-level3-cv-01/airflow/heyi-storage/명헌_5126/230203_121908/recording.webm',\n",
       " '/opt/ml/final-project-level3-cv-01/airflow/heyi-storage/명헌_5126/230202_115050/pose_recording.webm',\n",
       " '/opt/ml/final-project-level3-cv-01/airflow/heyi-storage/명헌_5126/230202_115050/face_recording.webm',\n",
       " '/opt/ml/final-project-level3-cv-01/airflow/heyi-storage/명헌_5126/230202_115050/eye_recording.webm',\n",
       " '/opt/ml/final-project-level3-cv-01/airflow/heyi-storage/명헌_5126/230202_115050/recording.webm',\n",
       " '/opt/ml/final-project-level3-cv-01/airflow/heyi-storage/명헌_5126/230201_112136/face_recording.webm',\n",
       " '/opt/ml/final-project-level3-cv-01/airflow/heyi-storage/명헌_5126/230201_112136/recording.webm',\n",
       " '/opt/ml/final-project-level3-cv-01/airflow/heyi-storage/명헌_5126/230205_191445/pose_recording.webm',\n",
       " '/opt/ml/final-project-level3-cv-01/airflow/heyi-storage/명헌_5126/230205_191445/face_recording.webm',\n",
       " '/opt/ml/final-project-level3-cv-01/airflow/heyi-storage/명헌_5126/230205_191445/eye_recording.webm',\n",
       " '/opt/ml/final-project-level3-cv-01/airflow/heyi-storage/명헌_5126/230205_191445/recording.webm',\n",
       " '/opt/ml/final-project-level3-cv-01/airflow/heyi-storage/homin_1000/230205_022035/recording.webm',\n",
       " '/opt/ml/final-project-level3-cv-01/airflow/heyi-storage/homin_1000/230205_023142/recording.webm',\n",
       " '/opt/ml/final-project-level3-cv-01/airflow/heyi-storage/homin_1000/230205_023757/recording.webm',\n",
       " '/opt/ml/final-project-level3-cv-01/airflow/heyi-storage/homin_1000/230205_024444/recording.webm',\n",
       " '/opt/ml/final-project-level3-cv-01/airflow/heyi-storage/ho_1000/230205_042051/recording.webm',\n",
       " '/opt/ml/final-project-level3-cv-01/airflow/heyi-storage/ho_1000/230205_025301/recording.webm',\n",
       " '/opt/ml/final-project-level3-cv-01/airflow/heyi-storage/ho_1000/230205_031903/recording.webm',\n",
       " '/opt/ml/final-project-level3-cv-01/airflow/heyi-storage/ho_1000/230206_020713/pose_recording.webm',\n",
       " '/opt/ml/final-project-level3-cv-01/airflow/heyi-storage/ho_1000/230206_020713/face_recording.webm',\n",
       " '/opt/ml/final-project-level3-cv-01/airflow/heyi-storage/ho_1000/230206_020713/eye_recording.webm',\n",
       " '/opt/ml/final-project-level3-cv-01/airflow/heyi-storage/ho_1000/230206_020713/recording.webm',\n",
       " '/opt/ml/final-project-level3-cv-01/airflow/heyi-storage/ho_1000/230205_032431/recording.webm',\n",
       " '/opt/ml/final-project-level3-cv-01/airflow/heyi-storage/ho_1000/230205_041025/eye_recording.webm',\n",
       " '/opt/ml/final-project-level3-cv-01/airflow/heyi-storage/ho_1000/230205_041025/recording.webm',\n",
       " '/opt/ml/final-project-level3-cv-01/airflow/heyi-storage/ho_1000/230205_040015/recording.webm',\n",
       " '/opt/ml/final-project-level3-cv-01/airflow/heyi-storage/ho_1000/230205_041629/eye_recording.webm',\n",
       " '/opt/ml/final-project-level3-cv-01/airflow/heyi-storage/ho_1000/230205_041629/recording.webm',\n",
       " '/opt/ml/final-project-level3-cv-01/airflow/heyi-storage/ho_1000/230205_024931/recording.webm',\n",
       " '/opt/ml/final-project-level3-cv-01/airflow/heyi-storage/ho_1000/230205_035048/pose_recording.webm',\n",
       " '/opt/ml/final-project-level3-cv-01/airflow/heyi-storage/ho_1000/230205_035048/face_recording.webm',\n",
       " '/opt/ml/final-project-level3-cv-01/airflow/heyi-storage/ho_1000/230205_035048/eye_recording.webm',\n",
       " '/opt/ml/final-project-level3-cv-01/airflow/heyi-storage/ho_1000/230205_035048/recording.webm',\n",
       " '/opt/ml/final-project-level3-cv-01/airflow/heyi-storage/ho_1000/230205_043544/pose_recording.webm',\n",
       " '/opt/ml/final-project-level3-cv-01/airflow/heyi-storage/ho_1000/230205_043544/face_recording.webm',\n",
       " '/opt/ml/final-project-level3-cv-01/airflow/heyi-storage/ho_1000/230205_043544/eye_recording.webm',\n",
       " '/opt/ml/final-project-level3-cv-01/airflow/heyi-storage/ho_1000/230205_043544/recording.webm',\n",
       " '/opt/ml/final-project-level3-cv-01/airflow/heyi-storage/ho_1000/230205_043128/eye_recording.webm',\n",
       " '/opt/ml/final-project-level3-cv-01/airflow/heyi-storage/ho_1000/230205_043128/recording.webm',\n",
       " '/opt/ml/final-project-level3-cv-01/airflow/heyi-storage/ho_1000/230205_042832/eye_recording.webm',\n",
       " '/opt/ml/final-project-level3-cv-01/airflow/heyi-storage/ho_1000/230205_042832/recording.webm',\n",
       " '/opt/ml/final-project-level3-cv-01/airflow/heyi-storage/ho_1000/230205_030124/pose_recording.webm',\n",
       " '/opt/ml/final-project-level3-cv-01/airflow/heyi-storage/ho_1000/230205_030124/face_recording.webm',\n",
       " '/opt/ml/final-project-level3-cv-01/airflow/heyi-storage/ho_1000/230205_030124/eye_recording.webm',\n",
       " '/opt/ml/final-project-level3-cv-01/airflow/heyi-storage/ho_1000/230205_030124/recording.webm',\n",
       " '/opt/ml/final-project-level3-cv-01/airflow/heyi-storage/ho_1000/230205_032900/eye_recording.webm',\n",
       " '/opt/ml/final-project-level3-cv-01/airflow/heyi-storage/ho_1000/230205_032900/recording.webm',\n",
       " '/opt/ml/final-project-level3-cv-01/airflow/heyi-storage/ho_1000/230205_042245/recording.webm',\n",
       " '/opt/ml/final-project-level3-cv-01/airflow/heyi-storage/ho_1000/230205_045836/recording.webm',\n",
       " '/opt/ml/final-project-level3-cv-01/airflow/heyi-storage/ho_1000/230205_035716/eye_recording.webm',\n",
       " '/opt/ml/final-project-level3-cv-01/airflow/heyi-storage/ho_1000/230205_035716/recording.webm',\n",
       " '/opt/ml/final-project-level3-cv-01/airflow/heyi-storage/ho_1000/230205_041349/pose_recording.webm',\n",
       " '/opt/ml/final-project-level3-cv-01/airflow/heyi-storage/ho_1000/230205_041349/face_recording.webm',\n",
       " '/opt/ml/final-project-level3-cv-01/airflow/heyi-storage/ho_1000/230205_041349/eye_recording.webm',\n",
       " '/opt/ml/final-project-level3-cv-01/airflow/heyi-storage/ho_1000/230205_041349/recording.webm',\n",
       " '/opt/ml/final-project-level3-cv-01/airflow/heyi-storage/ho_1000/230205_035318/eye_recording.webm',\n",
       " '/opt/ml/final-project-level3-cv-01/airflow/heyi-storage/ho_1000/230205_035318/recording.webm',\n",
       " '/opt/ml/final-project-level3-cv-01/airflow/heyi-storage/ho_1000/230205_025550/recording.webm',\n",
       " '/opt/ml/final-project-level3-cv-01/airflow/heyi-storage/ho_1000/230205_040421/eye_recording.webm',\n",
       " '/opt/ml/final-project-level3-cv-01/airflow/heyi-storage/ho_1000/230205_040421/recording.webm',\n",
       " '/opt/ml/final-project-level3-cv-01/airflow/heyi-storage/ho_1000/230205_040227/recording.webm',\n",
       " '/opt/ml/final-project-level3-cv-01/airflow/heyi-storage/ho_1000/230205_042517/recording.webm',\n",
       " '/opt/ml/final-project-level3-cv-01/airflow/heyi-storage/ho_1000/230205_034841/pose_recording.webm',\n",
       " '/opt/ml/final-project-level3-cv-01/airflow/heyi-storage/ho_1000/230205_034841/face_recording.webm',\n",
       " '/opt/ml/final-project-level3-cv-01/airflow/heyi-storage/ho_1000/230205_034841/recording.webm',\n",
       " '/opt/ml/final-project-level3-cv-01/airflow/heyi-storage/ho_1000/230205_031011/recording.webm',\n",
       " '/opt/ml/final-project-level3-cv-01/airflow/heyi-storage/ho_1000/230205_034307/eye_recording.webm',\n",
       " '/opt/ml/final-project-level3-cv-01/airflow/heyi-storage/ho_1000/230205_034307/recording.webm',\n",
       " '/opt/ml/final-project-level3-cv-01/airflow/heyi-storage/ho_1000/230205_035835/pose_recording.webm',\n",
       " '/opt/ml/final-project-level3-cv-01/airflow/heyi-storage/ho_1000/230205_035835/face_recording.webm',\n",
       " '/opt/ml/final-project-level3-cv-01/airflow/heyi-storage/ho_1000/230205_035835/eye_recording.webm',\n",
       " '/opt/ml/final-project-level3-cv-01/airflow/heyi-storage/ho_1000/230205_035835/recording.webm',\n",
       " '/opt/ml/final-project-level3-cv-01/airflow/heyi-storage/부덕_2023/230206_015121/pose_recording.webm',\n",
       " '/opt/ml/final-project-level3-cv-01/airflow/heyi-storage/부덕_2023/230206_015121/face_recording.webm',\n",
       " '/opt/ml/final-project-level3-cv-01/airflow/heyi-storage/부덕_2023/230206_015121/eye_recording.webm',\n",
       " '/opt/ml/final-project-level3-cv-01/airflow/heyi-storage/부덕_2023/230206_015121/recording.webm',\n",
       " '/opt/ml/final-project-level3-cv-01/airflow/heyi-storage/부덕_2023/230206_022455/pose_recording.webm',\n",
       " '/opt/ml/final-project-level3-cv-01/airflow/heyi-storage/부덕_2023/230206_022455/face_recording.webm',\n",
       " '/opt/ml/final-project-level3-cv-01/airflow/heyi-storage/부덕_2023/230206_022455/eye_recording.webm',\n",
       " '/opt/ml/final-project-level3-cv-01/airflow/heyi-storage/부덕_2023/230206_022455/recording.webm',\n",
       " '/opt/ml/final-project-level3-cv-01/airflow/heyi-storage/부덕_2023/230206_011921/pose_recording.webm',\n",
       " '/opt/ml/final-project-level3-cv-01/airflow/heyi-storage/부덕_2023/230206_011921/face_recording.webm',\n",
       " '/opt/ml/final-project-level3-cv-01/airflow/heyi-storage/부덕_2023/230206_011921/eye_recording.webm',\n",
       " '/opt/ml/final-project-level3-cv-01/airflow/heyi-storage/부덕_2023/230206_011921/recording.webm',\n",
       " '/opt/ml/final-project-level3-cv-01/airflow/heyi-storage/김김_1000/230205_162801/recording.webm',\n",
       " '/opt/ml/final-project-level3-cv-01/airflow/heyi-storage/명헌_1000/230203_154003/pose_recording.webm',\n",
       " '/opt/ml/final-project-level3-cv-01/airflow/heyi-storage/명헌_1000/230203_154003/face_recording.webm',\n",
       " '/opt/ml/final-project-level3-cv-01/airflow/heyi-storage/명헌_1000/230203_154003/eye_recording.webm',\n",
       " '/opt/ml/final-project-level3-cv-01/airflow/heyi-storage/명헌_1000/230203_154003/recording.webm',\n",
       " '/opt/ml/final-project-level3-cv-01/airflow/heyi-storage/명헌_1000/230203_172849/pose_recording.webm',\n",
       " '/opt/ml/final-project-level3-cv-01/airflow/heyi-storage/명헌_1000/230203_172849/face_recording.webm',\n",
       " '/opt/ml/final-project-level3-cv-01/airflow/heyi-storage/명헌_1000/230203_172849/eye_recording.webm',\n",
       " '/opt/ml/final-project-level3-cv-01/airflow/heyi-storage/명헌_1000/230203_172849/recording.webm',\n",
       " '/opt/ml/final-project-level3-cv-01/airflow/heyi-storage/명헌_1000/230203_171532/pose_recording.webm',\n",
       " '/opt/ml/final-project-level3-cv-01/airflow/heyi-storage/명헌_1000/230203_171532/face_recording.webm',\n",
       " '/opt/ml/final-project-level3-cv-01/airflow/heyi-storage/명헌_1000/230203_171532/eye_recording.webm',\n",
       " '/opt/ml/final-project-level3-cv-01/airflow/heyi-storage/명헌_1000/230203_171532/recording.webm',\n",
       " '/opt/ml/final-project-level3-cv-01/airflow/heyi-storage/명헌_1000/230203_172205/pose_recording.webm',\n",
       " '/opt/ml/final-project-level3-cv-01/airflow/heyi-storage/명헌_1000/230203_172205/face_recording.webm',\n",
       " '/opt/ml/final-project-level3-cv-01/airflow/heyi-storage/명헌_1000/230203_172205/eye_recording.webm',\n",
       " '/opt/ml/final-project-level3-cv-01/airflow/heyi-storage/명헌_1000/230203_172205/recording.webm']"
      ]
     },
     "execution_count": 24,
     "metadata": {},
     "output_type": "execute_result"
    }
   ],
   "source": [
    "webm = glob('/opt/ml/final-project-level3-cv-01/airflow/heyi-storage/*/*/*.webm')\n",
    "webm"
   ]
  },
  {
   "cell_type": "code",
   "execution_count": 10,
   "metadata": {},
   "outputs": [],
   "source": [
    "times= []\n",
    "for out in output:\n",
    "    times.append(int(out.split('/')[-1][0:6]))"
   ]
  },
  {
   "cell_type": "code",
   "execution_count": 23,
   "metadata": {},
   "outputs": [
    {
     "data": {
      "text/plain": [
       "str"
      ]
     },
     "execution_count": 23,
     "metadata": {},
     "output_type": "execute_result"
    }
   ],
   "source": [
    "now_date = datetime.now(timezone(\"Asia/Seoul\")).strftime(\"%y%m%d\")\n",
    "type(now_date)"
   ]
  },
  {
   "cell_type": "code",
   "execution_count": 26,
   "metadata": {},
   "outputs": [],
   "source": [
    "recent_video = []\n",
    "for out in output:\n",
    "    if int(now_date) - int(out.split('/')[-1][0:6]) < 2:\n",
    "        recent_video.append(out)"
   ]
  },
  {
   "cell_type": "code",
   "execution_count": 27,
   "metadata": {},
   "outputs": [
    {
     "data": {
      "text/plain": [
       "['/opt/ml/final-project-level3-cv-01/airflow/heyi-storage/ho_1000/230206_020713',\n",
       " '/opt/ml/final-project-level3-cv-01/airflow/heyi-storage/부덕_2023/230206_015121',\n",
       " '/opt/ml/final-project-level3-cv-01/airflow/heyi-storage/부덕_2023/230206_022455',\n",
       " '/opt/ml/final-project-level3-cv-01/airflow/heyi-storage/부덕_2023/230206_011921']"
      ]
     },
     "execution_count": 27,
     "metadata": {},
     "output_type": "execute_result"
    }
   ],
   "source": [
    "recent_video"
   ]
  },
  {
   "cell_type": "code",
   "execution_count": 31,
   "metadata": {},
   "outputs": [
    {
     "data": {
      "text/plain": [
       "'/opt/ml/final-project-level3-cv-01/airflow/heyi-storage/부덕_2023/230206_015121'"
      ]
     },
     "execution_count": 31,
     "metadata": {},
     "output_type": "execute_result"
    }
   ],
   "source": [
    "recent_video[1]\n",
    "glob(f\"{recent_video[1]}/recording.webm\")"
   ]
  },
  {
   "cell_type": "code",
   "execution_count": 43,
   "metadata": {},
   "outputs": [],
   "source": [
    "recording_list = []\n",
    "for rv in recent_video:\n",
    "    recording_list.append(f\"{rv}/recording.webm\")\n"
   ]
  },
  {
   "cell_type": "code",
   "execution_count": 44,
   "metadata": {},
   "outputs": [
    {
     "data": {
      "text/plain": [
       "['/opt/ml/final-project-level3-cv-01/airflow/heyi-storage/ho_1000/230206_020713/recording.webm',\n",
       " '/opt/ml/final-project-level3-cv-01/airflow/heyi-storage/부덕_2023/230206_015121/recording.webm',\n",
       " '/opt/ml/final-project-level3-cv-01/airflow/heyi-storage/부덕_2023/230206_022455/recording.webm',\n",
       " '/opt/ml/final-project-level3-cv-01/airflow/heyi-storage/부덕_2023/230206_011921/recording.webm']"
      ]
     },
     "execution_count": 44,
     "metadata": {},
     "output_type": "execute_result"
    }
   ],
   "source": [
    "recording_list"
   ]
  },
  {
   "cell_type": "code",
   "execution_count": 47,
   "metadata": {},
   "outputs": [
    {
     "data": {
      "text/plain": [
       "['/opt/ml/final-project-level3-cv-01/airflow/heyi-storage/ho_1000/230206_020713',\n",
       " '/opt/ml/final-project-level3-cv-01/airflow/heyi-storage/부덕_2023/230206_015121',\n",
       " '/opt/ml/final-project-level3-cv-01/airflow/heyi-storage/부덕_2023/230206_022455',\n",
       " '/opt/ml/final-project-level3-cv-01/airflow/heyi-storage/부덕_2023/230206_011921']"
      ]
     },
     "execution_count": 47,
     "metadata": {},
     "output_type": "execute_result"
    }
   ],
   "source": [
    "sd = [ rl[:-15] for rl in recording_list]\n",
    "sd\n",
    "sd.split('/')[-2]/sd.split('/')[-1]"
   ]
  },
  {
   "cell_type": "code",
   "execution_count": 11,
   "metadata": {},
   "outputs": [
    {
     "data": {
      "text/plain": [
       "[230203,\n",
       " 230203,\n",
       " 230204,\n",
       " 230203,\n",
       " 230203,\n",
       " 230205,\n",
       " 230205,\n",
       " 230201,\n",
       " 230202,\n",
       " 230205,\n",
       " 230201,\n",
       " 230201,\n",
       " 230203,\n",
       " 230201,\n",
       " 230202,\n",
       " 230201,\n",
       " 230205,\n",
       " 230205,\n",
       " 230205,\n",
       " 230205,\n",
       " 230205,\n",
       " 230205,\n",
       " 230205,\n",
       " 230205,\n",
       " 230206,\n",
       " 230205,\n",
       " 230205,\n",
       " 230205,\n",
       " 230205,\n",
       " 230205,\n",
       " 230205,\n",
       " 230205,\n",
       " 230205,\n",
       " 230205,\n",
       " 230205,\n",
       " 230205,\n",
       " 230205,\n",
       " 230205,\n",
       " 230205,\n",
       " 230205,\n",
       " 230205,\n",
       " 230205,\n",
       " 230205,\n",
       " 230205,\n",
       " 230205,\n",
       " 230205,\n",
       " 230205,\n",
       " 230205,\n",
       " 230205,\n",
       " 230206,\n",
       " 230206,\n",
       " 230206,\n",
       " 230205,\n",
       " 230203,\n",
       " 230203,\n",
       " 230203,\n",
       " 230203]"
      ]
     },
     "execution_count": 11,
     "metadata": {},
     "output_type": "execute_result"
    }
   ],
   "source": [
    "times"
   ]
  },
  {
   "cell_type": "code",
   "execution_count": 12,
   "metadata": {},
   "outputs": [
    {
     "data": {
      "text/plain": [
       "57"
      ]
     },
     "execution_count": 12,
     "metadata": {},
     "output_type": "execute_result"
    }
   ],
   "source": [
    "len(times)"
   ]
  },
  {
   "cell_type": "code",
   "execution_count": 15,
   "metadata": {},
   "outputs": [],
   "source": [
    "recent_times = [ t for t in times if int(now_date)-t<3 ]"
   ]
  },
  {
   "cell_type": "code",
   "execution_count": 16,
   "metadata": {},
   "outputs": [
    {
     "data": {
      "text/plain": [
       "40"
      ]
     },
     "execution_count": 16,
     "metadata": {},
     "output_type": "execute_result"
    }
   ],
   "source": [
    "len(recent_times)"
   ]
  },
  {
   "cell_type": "code",
   "execution_count": 15,
   "metadata": {},
   "outputs": [
    {
     "data": {
      "text/plain": [
       "'230203'"
      ]
     },
     "execution_count": 15,
     "metadata": {},
     "output_type": "execute_result"
    }
   ],
   "source": [
    "output[0].split('/')[-1][0:6]"
   ]
  },
  {
   "cell_type": "code",
   "execution_count": 22,
   "metadata": {},
   "outputs": [
    {
     "data": {
      "text/plain": [
       "4"
      ]
     },
     "execution_count": 22,
     "metadata": {},
     "output_type": "execute_result"
    }
   ],
   "source": [
    "int(now_date)-int(output[0].split('/')[-1][0:6])"
   ]
  },
  {
   "cell_type": "code",
   "execution_count": 30,
   "metadata": {},
   "outputs": [
    {
     "name": "stdout",
     "output_type": "stream",
     "text": [
      "gs://heyi-storage/CHO_1234/230207_020854/:\n",
      "gs://heyi-storage/CHO_1234/230207_020854/recording.webm\n",
      "\n",
      "gs://heyi-storage/CHO_1234/230207_023212/:\n",
      "gs://heyi-storage/CHO_1234/230207_023212/recording.webm\n",
      "\n",
      "gs://heyi-storage/aa_1000/230207_040506/:\n",
      "gs://heyi-storage/aa_1000/230207_040506/recording.webm\n",
      "\n",
      "gs://heyi-storage/aaa_1000/230207_035125/:\n",
      "gs://heyi-storage/aaa_1000/230207_035125/recording.webm\n",
      "\n",
      "gs://heyi-storage/aaaaa_1000/230207_035318/:\n",
      "gs://heyi-storage/aaaaa_1000/230207_035318/recording.webm\n",
      "\n",
      "gs://heyi-storage/aaaaaaaaaa_1000/230207_023412/:\n",
      "gs://heyi-storage/aaaaaaaaaa_1000/230207_023412/recording.webm\n",
      "\n",
      "gs://heyi-storage/asd_1000/230207_042024/:\n",
      "gs://heyi-storage/asd_1000/230207_042024/recording.webm\n",
      "\n",
      "gs://heyi-storage/audgjs_1000/230205_153334/:\n",
      "gs://heyi-storage/audgjs_1000/230205_153334/eye_recording.webm\n",
      "gs://heyi-storage/audgjs_1000/230205_153334/pose_recording.webm\n",
      "gs://heyi-storage/audgjs_1000/230205_153334/recording.webm\n",
      "\n",
      "gs://heyi-storage/ho_1000/230205_024931/:\n",
      "gs://heyi-storage/ho_1000/230205_024931/recording.webm\n",
      "\n",
      "gs://heyi-storage/ho_1000/230205_025301/:\n",
      "gs://heyi-storage/ho_1000/230205_025301/recording.webm\n",
      "\n",
      "gs://heyi-storage/ho_1000/230205_025550/:\n",
      "gs://heyi-storage/ho_1000/230205_025550/recording.webm\n",
      "\n",
      "gs://heyi-storage/ho_1000/230205_030124/:\n",
      "gs://heyi-storage/ho_1000/230205_030124/eye_recording.webm\n",
      "gs://heyi-storage/ho_1000/230205_030124/face_recording.webm\n",
      "gs://heyi-storage/ho_1000/230205_030124/pose_recording.webm\n",
      "gs://heyi-storage/ho_1000/230205_030124/recording.webm\n",
      "\n",
      "gs://heyi-storage/ho_1000/230205_031011/:\n",
      "gs://heyi-storage/ho_1000/230205_031011/recording.webm\n",
      "\n",
      "gs://heyi-storage/ho_1000/230205_031903/:\n",
      "gs://heyi-storage/ho_1000/230205_031903/recording.webm\n",
      "\n",
      "gs://heyi-storage/ho_1000/230205_032431/:\n",
      "gs://heyi-storage/ho_1000/230205_032431/recording.webm\n",
      "\n",
      "gs://heyi-storage/ho_1000/230205_032900/:\n",
      "gs://heyi-storage/ho_1000/230205_032900/eye_recording.webm\n",
      "gs://heyi-storage/ho_1000/230205_032900/recording.webm\n",
      "\n",
      "gs://heyi-storage/ho_1000/230205_034307/:\n",
      "gs://heyi-storage/ho_1000/230205_034307/eye_recording.webm\n",
      "gs://heyi-storage/ho_1000/230205_034307/recording.webm\n",
      "\n",
      "gs://heyi-storage/ho_1000/230205_034841/:\n",
      "gs://heyi-storage/ho_1000/230205_034841/face_recording.webm\n",
      "gs://heyi-storage/ho_1000/230205_034841/pose_recording.webm\n",
      "gs://heyi-storage/ho_1000/230205_034841/recording.webm\n",
      "\n",
      "gs://heyi-storage/ho_1000/230205_035048/:\n",
      "gs://heyi-storage/ho_1000/230205_035048/eye_recording.webm\n",
      "gs://heyi-storage/ho_1000/230205_035048/face_recording.webm\n",
      "gs://heyi-storage/ho_1000/230205_035048/pose_recording.webm\n",
      "gs://heyi-storage/ho_1000/230205_035048/recording.webm\n",
      "\n",
      "gs://heyi-storage/ho_1000/230205_035318/:\n",
      "gs://heyi-storage/ho_1000/230205_035318/eye_recording.webm\n",
      "gs://heyi-storage/ho_1000/230205_035318/recording.webm\n",
      "\n",
      "gs://heyi-storage/ho_1000/230205_035716/:\n",
      "gs://heyi-storage/ho_1000/230205_035716/eye_recording.webm\n",
      "gs://heyi-storage/ho_1000/230205_035716/recording.webm\n",
      "\n",
      "gs://heyi-storage/ho_1000/230205_035835/:\n",
      "gs://heyi-storage/ho_1000/230205_035835/eye_recording.webm\n",
      "gs://heyi-storage/ho_1000/230205_035835/face_recording.webm\n",
      "gs://heyi-storage/ho_1000/230205_035835/pose_recording.webm\n",
      "gs://heyi-storage/ho_1000/230205_035835/recording.webm\n",
      "\n",
      "gs://heyi-storage/ho_1000/230205_040015/:\n",
      "gs://heyi-storage/ho_1000/230205_040015/recording.webm\n",
      "\n",
      "gs://heyi-storage/ho_1000/230205_040227/:\n",
      "gs://heyi-storage/ho_1000/230205_040227/recording.webm\n",
      "\n",
      "gs://heyi-storage/ho_1000/230205_040421/:\n",
      "gs://heyi-storage/ho_1000/230205_040421/eye_recording.webm\n",
      "gs://heyi-storage/ho_1000/230205_040421/recording.webm\n",
      "\n",
      "gs://heyi-storage/ho_1000/230205_041025/:\n",
      "gs://heyi-storage/ho_1000/230205_041025/eye_recording.webm\n",
      "gs://heyi-storage/ho_1000/230205_041025/recording.webm\n",
      "\n",
      "gs://heyi-storage/ho_1000/230205_041349/:\n",
      "gs://heyi-storage/ho_1000/230205_041349/eye_recording.webm\n",
      "gs://heyi-storage/ho_1000/230205_041349/face_recording.webm\n",
      "gs://heyi-storage/ho_1000/230205_041349/pose_recording.webm\n",
      "gs://heyi-storage/ho_1000/230205_041349/recording.webm\n",
      "\n",
      "gs://heyi-storage/ho_1000/230205_041629/:\n",
      "gs://heyi-storage/ho_1000/230205_041629/eye_recording.webm\n",
      "gs://heyi-storage/ho_1000/230205_041629/recording.webm\n",
      "\n",
      "gs://heyi-storage/ho_1000/230205_042051/:\n",
      "gs://heyi-storage/ho_1000/230205_042051/recording.webm\n",
      "\n",
      "gs://heyi-storage/ho_1000/230205_042245/:\n",
      "gs://heyi-storage/ho_1000/230205_042245/recording.webm\n",
      "\n",
      "gs://heyi-storage/ho_1000/230205_042517/:\n",
      "gs://heyi-storage/ho_1000/230205_042517/recording.webm\n",
      "\n",
      "gs://heyi-storage/ho_1000/230205_042832/:\n",
      "gs://heyi-storage/ho_1000/230205_042832/eye_recording.webm\n",
      "gs://heyi-storage/ho_1000/230205_042832/recording.webm\n",
      "\n",
      "gs://heyi-storage/ho_1000/230205_043128/:\n",
      "gs://heyi-storage/ho_1000/230205_043128/eye_recording.webm\n",
      "gs://heyi-storage/ho_1000/230205_043128/recording.webm\n",
      "\n",
      "gs://heyi-storage/ho_1000/230205_043544/:\n",
      "gs://heyi-storage/ho_1000/230205_043544/eye_recording.webm\n",
      "gs://heyi-storage/ho_1000/230205_043544/face_recording.webm\n",
      "gs://heyi-storage/ho_1000/230205_043544/pose_recording.webm\n",
      "gs://heyi-storage/ho_1000/230205_043544/recording.webm\n",
      "\n",
      "gs://heyi-storage/ho_1000/230205_045836/:\n",
      "gs://heyi-storage/ho_1000/230205_045836/recording.webm\n",
      "\n",
      "gs://heyi-storage/ho_1000/230206_020713/:\n",
      "gs://heyi-storage/ho_1000/230206_020713/eye_recording.webm\n",
      "gs://heyi-storage/ho_1000/230206_020713/face_recording.webm\n",
      "gs://heyi-storage/ho_1000/230206_020713/pose_recording.webm\n",
      "gs://heyi-storage/ho_1000/230206_020713/recording.webm\n",
      "\n",
      "gs://heyi-storage/homin_1000/230205_022035/:\n",
      "gs://heyi-storage/homin_1000/230205_022035/recording.webm\n",
      "\n",
      "gs://heyi-storage/homin_1000/230205_023142/:\n",
      "gs://heyi-storage/homin_1000/230205_023142/recording.webm\n",
      "\n",
      "gs://heyi-storage/homin_1000/230205_023757/:\n",
      "gs://heyi-storage/homin_1000/230205_023757/recording.webm\n",
      "\n",
      "gs://heyi-storage/homin_1000/230205_024444/:\n",
      "gs://heyi-storage/homin_1000/230205_024444/recording.webm\n",
      "\n",
      "gs://heyi-storage/whdydwo_1000/230207_034901/:\n",
      "gs://heyi-storage/whdydwo_1000/230207_034901/recording.webm\n",
      "\n",
      "gs://heyi-storage/yonggi_1000/230205_022631/:\n",
      "gs://heyi-storage/yonggi_1000/230205_022631/recording.webm\n",
      "\n",
      "gs://heyi-storage/ㅁㅁㅁㅁㅁㅁ_1000/230207_015415/:\n",
      "gs://heyi-storage/ㅁㅁㅁㅁㅁㅁ_1000/230207_015415/recording.webm\n",
      "\n",
      "gs://heyi-storage/김김_1000/230205_162801/:\n",
      "gs://heyi-storage/김김_1000/230205_162801/recording.webm\n",
      "\n",
      "gs://heyi-storage/명헌_1000/230203_154003/:\n",
      "gs://heyi-storage/명헌_1000/230203_154003/eye_recording.webm\n",
      "gs://heyi-storage/명헌_1000/230203_154003/face_recording.webm\n",
      "gs://heyi-storage/명헌_1000/230203_154003/pose_recording.webm\n",
      "gs://heyi-storage/명헌_1000/230203_154003/recording.webm\n",
      "\n",
      "gs://heyi-storage/명헌_1000/230203_171532/:\n",
      "gs://heyi-storage/명헌_1000/230203_171532/eye_recording.webm\n",
      "gs://heyi-storage/명헌_1000/230203_171532/face_recording.webm\n",
      "gs://heyi-storage/명헌_1000/230203_171532/pose_recording.webm\n",
      "gs://heyi-storage/명헌_1000/230203_171532/recording.webm\n",
      "\n",
      "gs://heyi-storage/명헌_1000/230203_172205/:\n",
      "gs://heyi-storage/명헌_1000/230203_172205/eye_recording.webm\n",
      "gs://heyi-storage/명헌_1000/230203_172205/face_recording.webm\n",
      "gs://heyi-storage/명헌_1000/230203_172205/pose_recording.webm\n",
      "gs://heyi-storage/명헌_1000/230203_172205/recording.webm\n",
      "\n",
      "gs://heyi-storage/명헌_1000/230203_172849/:\n",
      "gs://heyi-storage/명헌_1000/230203_172849/eye_recording.webm\n",
      "gs://heyi-storage/명헌_1000/230203_172849/face_recording.webm\n",
      "gs://heyi-storage/명헌_1000/230203_172849/pose_recording.webm\n",
      "gs://heyi-storage/명헌_1000/230203_172849/recording.webm\n",
      "\n",
      "gs://heyi-storage/명헌_5126/230201_104915/:\n",
      "gs://heyi-storage/명헌_5126/230201_104915/face_recording.webm\n",
      "gs://heyi-storage/명헌_5126/230201_104915/recording.webm\n",
      "\n",
      "gs://heyi-storage/명헌_5126/230201_111423/:\n",
      "gs://heyi-storage/명헌_5126/230201_111423/recording.mp4\n",
      "\n",
      "gs://heyi-storage/명헌_5126/230201_112136/:\n",
      "gs://heyi-storage/명헌_5126/230201_112136/face_recording.webm\n",
      "gs://heyi-storage/명헌_5126/230201_112136/recording.webm\n",
      "\n",
      "gs://heyi-storage/명헌_5126/230201_152614/:\n",
      "gs://heyi-storage/명헌_5126/230201_152614/face_recording.webm\n",
      "gs://heyi-storage/명헌_5126/230201_152614/pose_recording.webm\n",
      "gs://heyi-storage/명헌_5126/230201_152614/recording.webm\n",
      "\n",
      "gs://heyi-storage/명헌_5126/230201_191351/:\n",
      "gs://heyi-storage/명헌_5126/230201_191351/face_recording.webm\n",
      "gs://heyi-storage/명헌_5126/230201_191351/pose_recording.webm\n",
      "gs://heyi-storage/명헌_5126/230201_191351/recording.webm\n",
      "\n",
      "gs://heyi-storage/명헌_5126/230202_025715/:\n",
      "gs://heyi-storage/명헌_5126/230202_025715/eye_recording.webm\n",
      "gs://heyi-storage/명헌_5126/230202_025715/face_recording.webm\n",
      "gs://heyi-storage/명헌_5126/230202_025715/pose_recording.webm\n",
      "gs://heyi-storage/명헌_5126/230202_025715/recording.webm\n",
      "\n",
      "gs://heyi-storage/명헌_5126/230202_115050/:\n",
      "gs://heyi-storage/명헌_5126/230202_115050/eye_recording.webm\n",
      "gs://heyi-storage/명헌_5126/230202_115050/face_recording.webm\n",
      "gs://heyi-storage/명헌_5126/230202_115050/pose_recording.webm\n",
      "gs://heyi-storage/명헌_5126/230202_115050/recording.webm\n",
      "\n",
      "gs://heyi-storage/명헌_5126/230203_121908/:\n",
      "gs://heyi-storage/명헌_5126/230203_121908/eye_recording.webm\n",
      "gs://heyi-storage/명헌_5126/230203_121908/face_recording.webm\n",
      "gs://heyi-storage/명헌_5126/230203_121908/pose_recording.webm\n",
      "gs://heyi-storage/명헌_5126/230203_121908/recording.webm\n",
      "\n",
      "gs://heyi-storage/명헌_5126/230205_190047/:\n",
      "gs://heyi-storage/명헌_5126/230205_190047/eye_recording.webm\n",
      "gs://heyi-storage/명헌_5126/230205_190047/face_recording.webm\n",
      "gs://heyi-storage/명헌_5126/230205_190047/pose_recording.webm\n",
      "gs://heyi-storage/명헌_5126/230205_190047/recording.webm\n",
      "\n",
      "gs://heyi-storage/명헌_5126/230205_191445/:\n",
      "gs://heyi-storage/명헌_5126/230205_191445/eye_recording.webm\n",
      "gs://heyi-storage/명헌_5126/230205_191445/face_recording.webm\n",
      "gs://heyi-storage/명헌_5126/230205_191445/pose_recording.webm\n",
      "gs://heyi-storage/명헌_5126/230205_191445/recording.webm\n",
      "\n",
      "gs://heyi-storage/부덕_2023/230206_011921/:\n",
      "gs://heyi-storage/부덕_2023/230206_011921/eye_recording.webm\n",
      "gs://heyi-storage/부덕_2023/230206_011921/face_recording.webm\n",
      "gs://heyi-storage/부덕_2023/230206_011921/pose_recording.webm\n",
      "gs://heyi-storage/부덕_2023/230206_011921/recording.webm\n",
      "\n",
      "gs://heyi-storage/부덕_2023/230206_015121/:\n",
      "gs://heyi-storage/부덕_2023/230206_015121/eye_recording.webm\n",
      "gs://heyi-storage/부덕_2023/230206_015121/face_recording.webm\n",
      "gs://heyi-storage/부덕_2023/230206_015121/pose_recording.webm\n",
      "gs://heyi-storage/부덕_2023/230206_015121/recording.webm\n",
      "\n",
      "gs://heyi-storage/부덕_2023/230206_022455/:\n",
      "gs://heyi-storage/부덕_2023/230206_022455/eye_recording.webm\n",
      "gs://heyi-storage/부덕_2023/230206_022455/face_recording.webm\n",
      "gs://heyi-storage/부덕_2023/230206_022455/pose_recording.webm\n",
      "gs://heyi-storage/부덕_2023/230206_022455/recording.webm\n",
      "\n",
      "gs://heyi-storage/부덕_2023/230206_150315/:\n",
      "gs://heyi-storage/부덕_2023/230206_150315/eye_recording.webm\n",
      "gs://heyi-storage/부덕_2023/230206_150315/face_recording.webm\n",
      "gs://heyi-storage/부덕_2023/230206_150315/pose_recording.webm\n",
      "gs://heyi-storage/부덕_2023/230206_150315/recording.webm\n",
      "\n",
      "gs://heyi-storage/부덕_2023/230206_151856/:\n",
      "gs://heyi-storage/부덕_2023/230206_151856/eye_recording.webm\n",
      "gs://heyi-storage/부덕_2023/230206_151856/face_recording.webm\n",
      "gs://heyi-storage/부덕_2023/230206_151856/pose_recording.webm\n",
      "gs://heyi-storage/부덕_2023/230206_151856/recording.webm\n",
      "\n",
      "gs://heyi-storage/조용재_1000/230207_020052/:\n",
      "gs://heyi-storage/조용재_1000/230207_020052/recording.webm\n",
      "\n",
      "gs://heyi-storage/최명헌_5126/230203_122925/:\n",
      "gs://heyi-storage/최명헌_5126/230203_122925/eye_recording.webm\n",
      "gs://heyi-storage/최명헌_5126/230203_122925/face_recording.webm\n",
      "gs://heyi-storage/최명헌_5126/230203_122925/pose_recording.webm\n",
      "gs://heyi-storage/최명헌_5126/230203_122925/recording.webm\n",
      "\n",
      "gs://heyi-storage/최명헌_5126/230203_124119/:\n",
      "gs://heyi-storage/최명헌_5126/230203_124119/eye_recording.webm\n",
      "gs://heyi-storage/최명헌_5126/230203_124119/face_recording.webm\n",
      "gs://heyi-storage/최명헌_5126/230203_124119/recording.webm\n",
      "\n",
      "gs://heyi-storage/최명헌_5126/230203_173222/:\n",
      "gs://heyi-storage/최명헌_5126/230203_173222/eye_recording.webm\n",
      "gs://heyi-storage/최명헌_5126/230203_173222/face_recording.webm\n",
      "gs://heyi-storage/최명헌_5126/230203_173222/pose_recording.webm\n",
      "gs://heyi-storage/최명헌_5126/230203_173222/recording.webm\n",
      "\n",
      "gs://heyi-storage/최명헌_5126/230203_174218/:\n",
      "gs://heyi-storage/최명헌_5126/230203_174218/eye_recording.webm\n",
      "gs://heyi-storage/최명헌_5126/230203_174218/face_recording.webm\n",
      "gs://heyi-storage/최명헌_5126/230203_174218/pose_recording.webm\n",
      "gs://heyi-storage/최명헌_5126/230203_174218/recording.webm\n",
      "\n",
      "gs://heyi-storage/최명헌_5126/230204_021257/:\n",
      "gs://heyi-storage/최명헌_5126/230204_021257/eye_recording.webm\n",
      "gs://heyi-storage/최명헌_5126/230204_021257/face_recording.webm\n",
      "gs://heyi-storage/최명헌_5126/230204_021257/pose_recording.webm\n",
      "gs://heyi-storage/최명헌_5126/230204_021257/recording.webm\n",
      "\n",
      "gs://heyi-storage/하..._1000/230207_023730/:\n",
      "gs://heyi-storage/하..._1000/230207_023730/recording.webm\n"
     ]
    }
   ],
   "source": [
    "dirs = input(os.system('gsutil ls gs://heyi-storage/*/*'))"
   ]
  }
 ],
 "metadata": {
  "kernelspec": {
   "display_name": "df",
   "language": "python",
   "name": "python3"
  },
  "language_info": {
   "codemirror_mode": {
    "name": "ipython",
    "version": 3
   },
   "file_extension": ".py",
   "mimetype": "text/x-python",
   "name": "python",
   "nbconvert_exporter": "python",
   "pygments_lexer": "ipython3",
   "version": "3.8.15"
  },
  "orig_nbformat": 4,
  "vscode": {
   "interpreter": {
    "hash": "1db9eee24355e5785faf4c558cd12ba993512c45828fa00a353ab4e411e534c1"
   }
  }
 },
 "nbformat": 4,
 "nbformat_minor": 2
}
