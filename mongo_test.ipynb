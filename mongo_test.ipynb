{
 "cells": [
  {
   "cell_type": "code",
   "execution_count": 1,
   "metadata": {},
   "outputs": [],
   "source": [
    "import sys\n",
    "import os\n",
    "sys.path.append(os.getcwd())\n",
    "from DBconnect.main import *\n",
    "import pandas as pd\n",
    "facedb = FaceDB(\"./homin_1000/230207_214925\")\n",
    "df = facedb.load_data_train()"
   ]
  },
  {
   "cell_type": "code",
   "execution_count": 5,
   "metadata": {},
   "outputs": [
    {
     "data": {
      "text/plain": [
       "'/opt/ml/final-project-level3-cv-01/airflow/heyi-storage/homin_1000/230207_214925/frames/frame0161.jpg'"
      ]
     },
     "execution_count": 5,
     "metadata": {},
     "output_type": "execute_result"
    }
   ],
   "source": [
    "df\n",
    "f\"/opt/ml/final-project-level3-cv-01/airflow/heyi-storage/{df.iloc[0]['frame'].lstrip('./')}\""
   ]
  },
  {
   "cell_type": "code",
   "execution_count": 27,
   "metadata": {},
   "outputs": [
    {
     "name": "stdout",
     "output_type": "stream",
     "text": [
      "/opt/ml/final-project-level3-cv-01\n"
     ]
    }
   ],
   "source": [
    "!pwd"
   ]
  },
  {
   "cell_type": "code",
   "execution_count": 22,
   "metadata": {},
   "outputs": [
    {
     "data": {
      "text/plain": [
       "'homin_1000/230207_214925/frames/frame0161.jpg'"
      ]
     },
     "execution_count": 22,
     "metadata": {},
     "output_type": "execute_result"
    }
   ],
   "source": [
    "df.iloc[0]['frame'].lstrip('./')"
   ]
  },
  {
   "cell_type": "code",
   "execution_count": 11,
   "metadata": {},
   "outputs": [
    {
     "name": "stdout",
     "output_type": "stream",
     "text": [
      "hurt\n",
      "hurt\n",
      "neutral\n",
      "neutral\n",
      "neutral\n"
     ]
    }
   ],
   "source": [
    "for i in range(len(df)):\n",
    "    print(df.iloc[i]['emotion'])"
   ]
  },
  {
   "cell_type": "code",
   "execution_count": 19,
   "metadata": {},
   "outputs": [
    {
     "data": {
      "text/plain": [
       "'/homin_1000/230207_214925/frames/frame0161.jpg'"
      ]
     },
     "execution_count": 19,
     "metadata": {},
     "output_type": "execute_result"
    }
   ],
   "source": [
    "f\"{df.iloc[0]['frame'].split('.')[1]}.jpg\""
   ]
  },
  {
   "cell_type": "code",
   "execution_count": 14,
   "metadata": {},
   "outputs": [],
   "source": [
    "import cv2\n",
    "import glob"
   ]
  },
  {
   "cell_type": "code",
   "execution_count": 29,
   "metadata": {},
   "outputs": [],
   "source": [
    "def video_to_frame(VIDEO_PATH, SAVED_DIR):\n",
    "\n",
    "    if not os.path.exists(SAVED_DIR):\n",
    "        os.makedirs(SAVED_DIR)\n",
    "\n",
    "    cap = cv2.VideoCapture(VIDEO_PATH)\n",
    "    count = cap.get(cv2.CAP_PROP_FRAME_COUNT)\n",
    "    fps = cap.get(cv2.CAP_PROP_FPS)\n",
    "\n",
    "    while True:  # 무한 루프\n",
    "        ret, frame = cap.read()  # 두 개의 값을 반환하므로 두 변수 지정\n",
    "\n",
    "        if not ret:  # 새로운 프레임을 못받아 왔을 때 braek\n",
    "            break\n",
    "        if int(cap.get(1)) % int(fps) == 0:\n",
    "            cv2.imwrite(SAVED_DIR + \"/frame0%d.jpg\" % count, frame)\n",
    "            print(\"Saved frame number : \", str(int(cap.get(1))))\n",
    "            count += 1\n",
    "\n",
    "        # 10ms 기다리고 다음 프레임으로 전환, Esc누르면 while 강제 종료\n",
    "        if cv2.waitKey(10) == 27:\n",
    "            break\n",
    "\n",
    "    cap.release()  # 사용한 자원 해제\n",
    "    cv2.destroyAllWindows()\n",
    "\n",
    "    frames = glob.glob(f\"{SAVED_DIR}/*.jpg\")\n",
    "    frames.sort()\n",
    "\n",
    "    return frames"
   ]
  },
  {
   "cell_type": "code",
   "execution_count": 30,
   "metadata": {},
   "outputs": [
    {
     "name": "stdout",
     "output_type": "stream",
     "text": [
      "Saved frame number :  30\n",
      "Saved frame number :  60\n",
      "Saved frame number :  90\n",
      "Saved frame number :  120\n",
      "Saved frame number :  150\n"
     ]
    },
    {
     "data": {
      "text/plain": [
       "['/opt/ml/final-project-level3-cv-01/homin_1000/230207_214925/frames/frame0161.jpg',\n",
       " '/opt/ml/final-project-level3-cv-01/homin_1000/230207_214925/frames/frame0162.jpg',\n",
       " '/opt/ml/final-project-level3-cv-01/homin_1000/230207_214925/frames/frame0163.jpg',\n",
       " '/opt/ml/final-project-level3-cv-01/homin_1000/230207_214925/frames/frame0164.jpg',\n",
       " '/opt/ml/final-project-level3-cv-01/homin_1000/230207_214925/frames/frame0165.jpg',\n",
       " '/opt/ml/final-project-level3-cv-01/homin_1000/230207_214925/frames/frame161.jpg',\n",
       " '/opt/ml/final-project-level3-cv-01/homin_1000/230207_214925/frames/frame162.jpg',\n",
       " '/opt/ml/final-project-level3-cv-01/homin_1000/230207_214925/frames/frame163.jpg',\n",
       " '/opt/ml/final-project-level3-cv-01/homin_1000/230207_214925/frames/frame164.jpg',\n",
       " '/opt/ml/final-project-level3-cv-01/homin_1000/230207_214925/frames/frame165.jpg']"
      ]
     },
     "execution_count": 30,
     "metadata": {},
     "output_type": "execute_result"
    }
   ],
   "source": [
    "video_to_frame('/opt/ml/final-project-level3-cv-01/homin_1000/230207_214925/recording.webm','/opt/ml/final-project-level3-cv-01/homin_1000/230207_214925/frames')"
   ]
  },
  {
   "cell_type": "code",
   "execution_count": 28,
   "metadata": {},
   "outputs": [
    {
     "data": {
      "text/plain": [
       "'0000000123'"
      ]
     },
     "execution_count": 28,
     "metadata": {},
     "output_type": "execute_result"
    }
   ],
   "source": [
    "\"123\".zfill(10)"
   ]
  },
  {
   "cell_type": "code",
   "execution_count": 34,
   "metadata": {},
   "outputs": [
    {
     "name": "stdout",
     "output_type": "stream",
     "text": [
      "mkdir: cannot create directory ‘angry’: File exists\n",
      "mkdir: cannot create directory ‘sad’: File exists\n",
      "mkdir: cannot create directory ‘neutral’: File exists\n"
     ]
    }
   ],
   "source": [
    "!mkdir angry sad neutral hurt"
   ]
  },
  {
   "cell_type": "code",
   "execution_count": 39,
   "metadata": {},
   "outputs": [],
   "source": [
    "import shutil\n",
    "for i in range(len(df)):\n",
    "    source = df.iloc[i]['frame'].lstrip('./')\n",
    "    destination = f\"{df.iloc[i]['emotion']}\"\n",
    "    shutil.copy(source, destination)"
   ]
  },
  {
   "cell_type": "code",
   "execution_count": 3,
   "metadata": {},
   "outputs": [
    {
     "data": {
      "text/plain": [
       "['/opt/ml/final-project-level3-cv-01/airflow/face_dataset/train/happy/명헌_1111_230208_152001_frame001796.jpg',\n",
       " '/opt/ml/final-project-level3-cv-01/airflow/face_dataset/train/happy/명헌_1111_230208_152001_frame001775.jpg',\n",
       " '/opt/ml/final-project-level3-cv-01/airflow/face_dataset/train/happy/명헌_1111_230208_152001_frame001816.jpg',\n",
       " '/opt/ml/final-project-level3-cv-01/airflow/face_dataset/train/happy/명헌_1111_230208_152001_frame001927.jpg',\n",
       " '/opt/ml/final-project-level3-cv-01/airflow/face_dataset/train/happy/명헌_1111_230208_152001_frame001787.jpg',\n",
       " '/opt/ml/final-project-level3-cv-01/airflow/face_dataset/train/happy/명헌_1111_230208_152001_frame001790.jpg',\n",
       " '/opt/ml/final-project-level3-cv-01/airflow/face_dataset/train/happy/명헌_1111_230208_152001_frame001805.jpg',\n",
       " '/opt/ml/final-project-level3-cv-01/airflow/face_dataset/train/happy/명헌_1111_230208_152001_frame001820.jpg',\n",
       " '/opt/ml/final-project-level3-cv-01/airflow/face_dataset/train/happy/명헌_1111_230208_152001_frame001229.jpg',\n",
       " '/opt/ml/final-project-level3-cv-01/airflow/face_dataset/train/happy/명헌_1111_230208_152001_frame001964.jpg',\n",
       " '/opt/ml/final-project-level3-cv-01/airflow/face_dataset/train/happy/명헌_1111_230208_152001_frame001977.jpg',\n",
       " '/opt/ml/final-project-level3-cv-01/airflow/face_dataset/train/happy/명헌_1111_230208_152001_frame001818.jpg',\n",
       " '/opt/ml/final-project-level3-cv-01/airflow/face_dataset/train/happy/명헌_1111_230208_152001_frame001792.jpg',\n",
       " '/opt/ml/final-project-level3-cv-01/airflow/face_dataset/train/happy/명헌_1111_230208_152001_frame001755.jpg',\n",
       " '/opt/ml/final-project-level3-cv-01/airflow/face_dataset/train/happy/명헌_1111_230208_152001_frame001793.jpg',\n",
       " '/opt/ml/final-project-level3-cv-01/airflow/face_dataset/train/happy/명헌_1111_230208_152001_frame001929.jpg',\n",
       " '/opt/ml/final-project-level3-cv-01/airflow/face_dataset/train/happy/명헌_1111_230208_152001_frame001975.jpg',\n",
       " '/opt/ml/final-project-level3-cv-01/airflow/face_dataset/train/happy/명헌_1111_230208_152001_frame001766.jpg',\n",
       " '/opt/ml/final-project-level3-cv-01/airflow/face_dataset/train/happy/명헌_1111_230208_152001_frame001786.jpg',\n",
       " '/opt/ml/final-project-level3-cv-01/airflow/face_dataset/train/happy/명헌_1111_230208_152001_frame001780.jpg',\n",
       " '/opt/ml/final-project-level3-cv-01/airflow/face_dataset/train/happy/명헌_1111_230208_152001_frame001814.jpg',\n",
       " '/opt/ml/final-project-level3-cv-01/airflow/face_dataset/train/happy/명헌_1111_230208_152001_frame001928.jpg',\n",
       " '/opt/ml/final-project-level3-cv-01/airflow/face_dataset/train/happy/명헌_1111_230208_152001_frame001771.jpg',\n",
       " '/opt/ml/final-project-level3-cv-01/airflow/face_dataset/train/happy/명헌_1111_230208_152001_frame001962.jpg',\n",
       " '/opt/ml/final-project-level3-cv-01/airflow/face_dataset/train/happy/명헌_1111_230208_152001_frame001774.jpg',\n",
       " '/opt/ml/final-project-level3-cv-01/airflow/face_dataset/train/happy/명헌_1111_230208_152001_frame001781.jpg',\n",
       " '/opt/ml/final-project-level3-cv-01/airflow/face_dataset/train/happy/명헌_1111_230208_152001_frame001777.jpg',\n",
       " '/opt/ml/final-project-level3-cv-01/airflow/face_dataset/train/happy/명헌_1111_230208_152001_frame001789.jpg',\n",
       " '/opt/ml/final-project-level3-cv-01/airflow/face_dataset/train/happy/명헌_1111_230208_152001_frame001298.jpg',\n",
       " '/opt/ml/final-project-level3-cv-01/airflow/face_dataset/train/happy/명헌_1111_230208_152001_frame001788.jpg',\n",
       " '/opt/ml/final-project-level3-cv-01/airflow/face_dataset/train/happy/명헌_1111_230208_152001_frame001765.jpg',\n",
       " '/opt/ml/final-project-level3-cv-01/airflow/face_dataset/train/happy/명헌_1111_230208_152001_frame001791.jpg',\n",
       " '/opt/ml/final-project-level3-cv-01/airflow/face_dataset/train/happy/명헌_1111_230208_152001_frame001978.jpg',\n",
       " '/opt/ml/final-project-level3-cv-01/airflow/face_dataset/train/happy/명헌_1111_230208_152001_frame001817.jpg',\n",
       " '/opt/ml/final-project-level3-cv-01/airflow/face_dataset/train/happy/명헌_1111_230208_152001_frame001768.jpg',\n",
       " '/opt/ml/final-project-level3-cv-01/airflow/face_dataset/train/happy/명헌_1111_230208_152001_frame001937.jpg',\n",
       " '/opt/ml/final-project-level3-cv-01/airflow/face_dataset/train/happy/명헌_1111_230208_152001_frame001819.jpg',\n",
       " '/opt/ml/final-project-level3-cv-01/airflow/face_dataset/train/happy/명헌_1111_230208_152001_frame001822.jpg',\n",
       " '/opt/ml/final-project-level3-cv-01/airflow/face_dataset/train/happy/명헌_1111_230208_152001_frame001784.jpg',\n",
       " '/opt/ml/final-project-level3-cv-01/airflow/face_dataset/train/happy/명헌_1111_230208_152001_frame001231.jpg',\n",
       " '/opt/ml/final-project-level3-cv-01/airflow/face_dataset/train/happy/명헌_1111_230208_152001_frame001769.jpg',\n",
       " '/opt/ml/final-project-level3-cv-01/airflow/face_dataset/train/happy/명헌_1111_230208_152001_frame001785.jpg',\n",
       " '/opt/ml/final-project-level3-cv-01/airflow/face_dataset/train/happy/명헌_1111_230208_152001_frame001803.jpg',\n",
       " '/opt/ml/final-project-level3-cv-01/airflow/face_dataset/train/happy/명헌_1111_230208_152001_frame001813.jpg',\n",
       " '/opt/ml/final-project-level3-cv-01/airflow/face_dataset/train/happy/명헌_1111_230208_152001_frame001795.jpg',\n",
       " '/opt/ml/final-project-level3-cv-01/airflow/face_dataset/train/happy/명헌_1111_230208_152001_frame001757.jpg',\n",
       " '/opt/ml/final-project-level3-cv-01/airflow/face_dataset/train/happy/명헌_1111_230208_152001_frame001976.jpg',\n",
       " '/opt/ml/final-project-level3-cv-01/airflow/face_dataset/train/happy/명헌_1111_230208_152001_frame001767.jpg',\n",
       " '/opt/ml/final-project-level3-cv-01/airflow/face_dataset/train/happy/명헌_1111_230208_152001_frame001797.jpg',\n",
       " '/opt/ml/final-project-level3-cv-01/airflow/face_dataset/train/happy/명헌_1111_230208_152001_frame001779.jpg',\n",
       " '/opt/ml/final-project-level3-cv-01/airflow/face_dataset/train/happy/명헌_1111_230208_152001_frame001770.jpg',\n",
       " '/opt/ml/final-project-level3-cv-01/airflow/face_dataset/train/happy/명헌_1111_230208_152001_frame001782.jpg',\n",
       " '/opt/ml/final-project-level3-cv-01/airflow/face_dataset/train/happy/명헌_1111_230208_152001_frame001776.jpg',\n",
       " '/opt/ml/final-project-level3-cv-01/airflow/face_dataset/train/happy/명헌_1111_230208_152001_frame001802.jpg',\n",
       " '/opt/ml/final-project-level3-cv-01/airflow/face_dataset/train/happy/명헌_1111_230208_152001_frame001804.jpg',\n",
       " '/opt/ml/final-project-level3-cv-01/airflow/face_dataset/train/happy/명헌_1111_230208_152001_frame001778.jpg',\n",
       " '/opt/ml/final-project-level3-cv-01/airflow/face_dataset/train/happy/명헌_1111_230208_152001_frame001773.jpg',\n",
       " '/opt/ml/final-project-level3-cv-01/airflow/face_dataset/train/happy/명헌_1111_230208_152001_frame001974.jpg',\n",
       " '/opt/ml/final-project-level3-cv-01/airflow/face_dataset/train/happy/명헌_1111_230208_152001_frame001815.jpg',\n",
       " '/opt/ml/final-project-level3-cv-01/airflow/face_dataset/train/happy/명헌_1111_230208_152001_frame001783.jpg',\n",
       " '/opt/ml/final-project-level3-cv-01/airflow/face_dataset/train/happy/명헌_1111_230208_152001_frame001794.jpg',\n",
       " '/opt/ml/final-project-level3-cv-01/airflow/face_dataset/train/happy/명헌_1111_230208_152001_frame001930.jpg',\n",
       " '/opt/ml/final-project-level3-cv-01/airflow/face_dataset/train/happy/명헌_1111_230208_152001_frame001772.jpg',\n",
       " '/opt/ml/final-project-level3-cv-01/airflow/face_dataset/train/happy/명헌_1111_230208_152001_frame001979.jpg',\n",
       " '/opt/ml/final-project-level3-cv-01/airflow/face_dataset/train/happy/명헌_1111_230208_152001_frame001764.jpg']"
      ]
     },
     "execution_count": 3,
     "metadata": {},
     "output_type": "execute_result"
    }
   ],
   "source": [
    "from glob import glob\n",
    "emotions = ['angry', 'anxiety', 'blank', 'happy', 'neutral', 'sad', 'surprise']\n",
    "glob('/opt/ml/final-project-level3-cv-01/airflow/face_dataset/train/happy/*.jpg')"
   ]
  },
  {
   "cell_type": "code",
   "execution_count": 5,
   "metadata": {},
   "outputs": [
    {
     "name": "stderr",
     "output_type": "stream",
     "text": [
      "Copying files: 1333 files [00:00, 5965.94 files/s]\n"
     ]
    }
   ],
   "source": [
    "import splitfolders\n",
    "\n",
    "splitfolders.ratio('/opt/ml/final-project-level3-cv-01/airflow/face_dataset/train', output= '/opt/ml/final-project-level3-cv-01/split_test' ,seed=42,ratio = (0.8,0.2))"
   ]
  }
 ],
 "metadata": {
  "kernelspec": {
   "display_name": "df",
   "language": "python",
   "name": "python3"
  },
  "language_info": {
   "codemirror_mode": {
    "name": "ipython",
    "version": 3
   },
   "file_extension": ".py",
   "mimetype": "text/x-python",
   "name": "python",
   "nbconvert_exporter": "python",
   "pygments_lexer": "ipython3",
   "version": "3.8.15"
  },
  "orig_nbformat": 4,
  "vscode": {
   "interpreter": {
    "hash": "1db9eee24355e5785faf4c558cd12ba993512c45828fa00a353ab4e411e534c1"
   }
  }
 },
 "nbformat": 4,
 "nbformat_minor": 2
}
